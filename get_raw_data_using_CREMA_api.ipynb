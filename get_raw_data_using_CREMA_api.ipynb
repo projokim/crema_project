{
 "cells": [
  {
   "cell_type": "code",
   "execution_count": 13,
   "metadata": {},
   "outputs": [],
   "source": [
    "import pandas as pd\n",
    "from tqdm import tqdm\n",
    "import json\n",
    "import requests"
   ]
  },
  {
   "cell_type": "markdown",
   "metadata": {},
   "source": [
    "## Get Access Token"
   ]
  },
  {
   "cell_type": "code",
   "execution_count": null,
   "metadata": {},
   "outputs": [],
   "source": [
    "# 쇼핑몰 : 오드\n",
    "\n",
    "data = {\n",
    "    \"grant_type\" : \"client_credentials\",\n",
    "    \"client_id\" : '',\n",
    "    \"client_secret\" : ''\n",
    "}\n",
    "\n",
    "# header = {'content-Type': 'application/x-www-form-urlencoded;charset=UTF-8'}\n",
    "url = 'https://api.cre.ma/oauth/token'\n",
    "\n",
    "token_response = requests.post(url, data=data)\n",
    "\n",
    "token_response"
   ]
  },
  {
   "cell_type": "code",
   "execution_count": null,
   "metadata": {},
   "outputs": [],
   "source": [
    "contents = json.loads(token_response.text)\n",
    "\n",
    "ACCESS_TOKEN = contents['access_token']\n",
    "\n",
    "ACCESS_TOKEN"
   ]
  },
  {
   "cell_type": "markdown",
   "metadata": {},
   "source": [
    "## Get Reviews Datasets\n",
    "\n",
    "#### parameter\n",
    "\n",
    "```\n",
    "- limit : (integer) 한 페이지에 가져올 리뷰의 개수입니다. 최대 100개까지 가능합니다. 기본: 30\n",
    "- page : (integer) 페이지 번호입니다. 최대 페이지 수는 Link http header의 rel=\"last\"에 기재되어 있습니다. 기본: 1\n",
    "    - 최대 페이지 번호 알아오기\n",
    "- product_id : (integer)특정 상품의 리뷰만 가져올 때 사용합니다.\n",
    "- product_code : (string) 특정 상품의 리뷰만 가져올 때 사용합니다. 상품의 쇼핑몰 서비스측 고유 식별자.\n",
    "- user_code : (string) 특정 회원의 리뷰만 가져올 때 사용합니다. 리뷰 작성자의 쇼핑몰 아이디.\n",
    "    - None이 많다...?\n",
    "- score : (integer) 특정 평점의 리뷰만 가져올 때 사용합니다. 1~5 값을 요청할 수 있습니다.\n",
    "- photo : (integer) 포토리뷰만 가져오고 싶은 경우 1을 넘깁니다.\n",
    "\n",
    "- date_updated_at : (integer) 리뷰의 생성 일자 대신 수정 일자를 기준으로 가져오고 싶은 경우 1을 넘깁니다.\n",
    "- date_order_desc : (integer) 날짜기준 역순으로 가져오고 싶은 경우 1을 넘깁니다.\n",
    "- start_date : (date) 입력하면 해당 날짜부터 작성된 리뷰만 가져오게 됩니다. 형식: \"yyyy-mm-dd\"\n",
    "- end_date : (date) 입력하면 해당 날짜까지 작성된 리뷰만 가져오게 됩니다. 형식: \"yyyy-mm-dd\"\n",
    "```"
   ]
  },
  {
   "cell_type": "code",
   "execution_count": null,
   "metadata": {},
   "outputs": [],
   "source": [
    "def get_review_one_page(params, url, page=1):\n",
    "\n",
    "    # 인자 값 체크\n",
    "    # pass\n",
    "    \n",
    "    params['page'] = page\n",
    "    \n",
    "    response = requests.get(url, params=params)\n",
    "    review_list = json.loads(response.text)\n",
    "    \n",
    "    return review_list"
   ]
  },
  {
   "cell_type": "code",
   "execution_count": null,
   "metadata": {},
   "outputs": [],
   "source": [
    "def get_reviews(url=REVIEW_URL, access_token=ACCESS_TOKEN,\n",
    "               limit=30, start_page=1, end_page=1,\n",
    "               product_id=None, product_code=None,\n",
    "               user_code=None,\n",
    "               score=None,\n",
    "               photo=None, \n",
    "               date_updated_at=None, date_order_desc=None,\n",
    "               start_date=None, end_date=None,\n",
    "               **kwargs):\n",
    "\n",
    "    # 인자 값 체크\n",
    "    # pass\n",
    "\n",
    "    params = {\n",
    "        'access_token' : ACCESS_TOKEN,\n",
    "        \"limit\" : limit,\n",
    "        'product_id' : product_id,\n",
    "        \"product_code\" : product_code,\n",
    "        'user_code' : user_code,\n",
    "        'score' : score,\n",
    "        'photo' : photo,\n",
    "        'date_updated_at' : date_updated_at,\n",
    "        'date_order_desc' : date_order_desc,\n",
    "        'start_date' : start_date,\n",
    "        'end_date' : end_date,\n",
    "    }\n",
    "    \n",
    "    review_list = []\n",
    "    \n",
    "    for page in tqdm(range(start_page, end_page + 1)):\n",
    "        review_one_page = get_review_one_page(params, url, page)\n",
    "        review_list.extend(review_one_page)\n",
    "        time.sleep(0.1)\n",
    "        \n",
    "    return review_list"
   ]
  },
  {
   "cell_type": "code",
   "execution_count": 34,
   "metadata": {},
   "outputs": [
    {
     "data": {
      "text/plain": [
       "'<https://api.cre.ma/v1/reviews?access_token=im75d0sXrsUe9S5eZBmG-PfFNMs97hmiJDgw1VODa1U&limit=100&page=5454>; rel=\"last\", <https://api.cre.ma/v1/reviews?access_token=im75d0sXrsUe9S5eZBmG-PfFNMs97hmiJDgw1VODa1U&limit=100&page=2>; rel=\"next\"'"
      ]
     },
     "execution_count": 34,
     "metadata": {},
     "output_type": "execute_result"
    }
   ],
   "source": [
    "REVIEW_URL = \"http://api.cre.ma/v1/reviews\"\n",
    "\n",
    "params = {\n",
    "    'access_token' : ACCESS_TOKEN,\n",
    "    \"limit\" : 100,\n",
    "}\n",
    "\n",
    "response = requests.get(REVIEW_URL, params=params)\n",
    "\n",
    "response.headers['Link']"
   ]
  },
  {
   "cell_type": "code",
   "execution_count": 35,
   "metadata": {},
   "outputs": [
    {
     "data": {
      "text/plain": [
       "'<https://api.cre.ma/v1/products?access_token=im75d0sXrsUe9S5eZBmG-PfFNMs97hmiJDgw1VODa1U&limit=100&page=378>; rel=\"last\", <https://api.cre.ma/v1/products?access_token=im75d0sXrsUe9S5eZBmG-PfFNMs97hmiJDgw1VODa1U&limit=100&page=2>; rel=\"next\"'"
      ]
     },
     "execution_count": 35,
     "metadata": {},
     "output_type": "execute_result"
    }
   ],
   "source": [
    "PRODUCT_URL = \"http://api.cre.ma/v1/products\"\n",
    "\n",
    "params = {\n",
    "    'access_token' : ACCESS_TOKEN,\n",
    "    \"limit\" : 100,\n",
    "}\n",
    "\n",
    "response = requests.get(PRODUCT_URL, params=params)\n",
    "\n",
    "response.headers['Link']"
   ]
  },
  {
   "cell_type": "code",
   "execution_count": null,
   "metadata": {},
   "outputs": [],
   "source": [
    "REVIEW_URL = \"http://api.cre.ma/v1/reviews\"\n",
    "\n",
    "# 2019년 이후 데이터\n",
    "params = {\n",
    "    'access_token' : ACCESS_TOKEN,\n",
    "    \"limit\" : 100,\n",
    "    'start_page' : 1,\n",
    "    'end_page' : 1110,\n",
    "    'product_id' : None,\n",
    "    \"product_code\" : None,\n",
    "    'user_code' : None,\n",
    "    'score' : None,\n",
    "    'photo' : None,\n",
    "    'date_updated_at' : None,\n",
    "#     'date_order_desc' : 1,\n",
    "    'start_date' : '2019-01-01',\n",
    "#     'end_date' : '2021-02-06',\n",
    "    \n",
    "}\n",
    "\n",
    "review_list = get_reviews(**params)\n",
    "\n",
    "review_df = pd.DataFrame(review_list)\n",
    "\n",
    "print(review_df.shape)\n",
    "review_df.head()"
   ]
  },
  {
   "cell_type": "code",
   "execution_count": null,
   "metadata": {},
   "outputs": [],
   "source": [
    "review_df.to_csv(\"review_since_20190101.csv\", index=False)"
   ]
  },
  {
   "cell_type": "markdown",
   "metadata": {},
   "source": [
    "## Get Products Data"
   ]
  },
  {
   "cell_type": "code",
   "execution_count": 1,
   "metadata": {},
   "outputs": [],
   "source": [
    "def get_product_one_page(params, url, page=1):\n",
    "\n",
    "    # 인자 값 체크\n",
    "    # pass\n",
    "    \n",
    "    params['page'] = page\n",
    "    \n",
    "    response = requests.get(url, params=params)\n",
    "    product_list = json.loads(response.text)\n",
    "    \n",
    "    return product_list"
   ]
  },
  {
   "cell_type": "code",
   "execution_count": null,
   "metadata": {},
   "outputs": [],
   "source": [
    "def get_products(url=PRODUCTS_URL, access_token=ACCESS_TOKEN,\n",
    "               limit=30, start_page=1, end_page=1,\n",
    "               **kwargs):\n",
    "\n",
    "    # 인자 값 체크\n",
    "    # pass\n",
    "\n",
    "    params = {\n",
    "        'access_token' : ACCESS_TOKEN,\n",
    "        \"limit\" : limit,\n",
    "    }\n",
    "    \n",
    "    product_list = []\n",
    "    \n",
    "    for page in tqdm(range(start_page, end_page + 1)):\n",
    "        product_one_page = get_product_one_page(params, url, page)\n",
    "        product_list.extend(product_one_page)\n",
    "        time.sleep(0.1)\n",
    "        \n",
    "    return product_list"
   ]
  },
  {
   "cell_type": "code",
   "execution_count": null,
   "metadata": {},
   "outputs": [],
   "source": [
    "PRODUCTS_URL = \"https://api.cre.ma/v1/products\"\n",
    "\n",
    "params = {\n",
    "    'access_token' : ACCESS_TOKEN,\n",
    "    \"limit\" : 100,\n",
    "    'end_page' : 372,\n",
    "}\n",
    "\n",
    "product_list = get_products(**params)\n",
    "\n",
    "products_df = pd.DataFrame(product_list)\n",
    "\n",
    "print(products_df.shape)\n",
    "products_df.head()"
   ]
  },
  {
   "cell_type": "code",
   "execution_count": null,
   "metadata": {},
   "outputs": [],
   "source": [
    "products_df.to_csv(\"data/products.csv\", index=False)"
   ]
  },
  {
   "cell_type": "code",
   "execution_count": null,
   "metadata": {},
   "outputs": [],
   "source": [
    "# cols = ['name', 'code', 'created_at', 'updated_at', 'product_status']\n",
    "# # drop_cols = [\"id\", 'created_at']\n",
    "# products_selected = products[cols].copy()\n",
    "\n",
    "# print(products_selected.shape)\n",
    "# products_selected.head()"
   ]
  },
  {
   "cell_type": "code",
   "execution_count": null,
   "metadata": {},
   "outputs": [],
   "source": []
  }
 ],
 "metadata": {
  "kernelspec": {
   "display_name": "Python 3",
   "language": "python",
   "name": "python3"
  },
  "language_info": {
   "codemirror_mode": {
    "name": "ipython",
    "version": 3
   },
   "file_extension": ".py",
   "mimetype": "text/x-python",
   "name": "python",
   "nbconvert_exporter": "python",
   "pygments_lexer": "ipython3",
   "version": "3.7.6"
  }
 },
 "nbformat": 4,
 "nbformat_minor": 4
}
