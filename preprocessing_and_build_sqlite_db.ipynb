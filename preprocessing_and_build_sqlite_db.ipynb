{
 "cells": [
  {
   "cell_type": "markdown",
   "metadata": {},
   "source": [
    "## Configure"
   ]
  },
  {
   "cell_type": "code",
   "execution_count": 3,
   "metadata": {},
   "outputs": [],
   "source": [
    "import pandas as pd\n",
    "import numpy as np\n",
    "import requests\n",
    "import json\n",
    "import time\n",
    "from tqdm import tqdm\n",
    "from pprint import pprint\n",
    "\n",
    "from pororo import Pororo\n",
    "import sqlite3\n",
    "\n",
    "import re\n",
    "\n",
    "import seaborn as sns\n",
    "import matplotlib.pyplot as plt\n",
    "import matplotlib as mpl\n",
    "\n",
    "pd.options.display.max_rows = 100\n",
    "pd.options.display.max_columns = 100"
   ]
  },
  {
   "cell_type": "code",
   "execution_count": 4,
   "metadata": {},
   "outputs": [],
   "source": [
    "mpl.rc(\"font\", family='AppleGothic')\n",
    "mpl.rc(\"axes\", unicode_minus=False)\n",
    "\n",
    "from IPython.display import set_matplotlib_formats\n",
    "\n",
    "set_matplotlib_formats(\"retina\")\n",
    "\n",
    "FONT_PATH = '/System/Library/Fonts/Supplemental/AppleGothic.ttf'"
   ]
  },
  {
   "cell_type": "markdown",
   "metadata": {},
   "source": [
    "## Loads Review Datasets"
   ]
  },
  {
   "cell_type": "code",
   "execution_count": null,
   "metadata": {},
   "outputs": [],
   "source": [
    "reviews = pd.read_csv(\"data/review_since_20190101.csv\", low_memory=False)\n",
    "\n",
    "print(reviews.shape)\n",
    "reviews.head(2)"
   ]
  },
  {
   "cell_type": "markdown",
   "metadata": {},
   "source": [
    "## Loads Product Datasets"
   ]
  },
  {
   "cell_type": "code",
   "execution_count": null,
   "metadata": {},
   "outputs": [],
   "source": [
    "products = pd.read_csv(\"data/products.csv\", low_memory=False)\n",
    "\n",
    "print(products.shape)\n",
    "products.head(2)"
   ]
  },
  {
   "cell_type": "markdown",
   "metadata": {},
   "source": [
    "## Preprocessing"
   ]
  },
  {
   "cell_type": "markdown",
   "metadata": {},
   "source": [
    "### Drop Duplication"
   ]
  },
  {
   "cell_type": "code",
   "execution_count": null,
   "metadata": {},
   "outputs": [],
   "source": [
    "reviews_backup1 = reviews.copy()\n",
    "\n",
    "reviews = reviews.drop_duplicates(['user_name', 'message', 'product_id'], keep='last')\n",
    "\n",
    "print(reviews.shape)\n",
    "reviews.head()"
   ]
  },
  {
   "cell_type": "markdown",
   "metadata": {},
   "source": [
    "### 직원 리뷰 지우기"
   ]
  },
  {
   "cell_type": "code",
   "execution_count": null,
   "metadata": {},
   "outputs": [],
   "source": [
    "c1 = reviews['message(cleaned)'].str.contains(\"CS|MD\")\n",
    "c2 = reviews['user_name'].str.contains(\"사내판매|CS|MD|odemd|오드\")\n",
    "\n",
    "reviews_final = reviews[~(c1|c2)].copy()\n",
    "\n",
    "print(reviews_final.shape)\n",
    "reviews_final.head()"
   ]
  },
  {
   "cell_type": "markdown",
   "metadata": {},
   "source": [
    "### Cleaning Message"
   ]
  },
  {
   "cell_type": "markdown",
   "metadata": {},
   "source": [
    "- 공백 제거\n",
    "- ?특수 문자 제거\n",
    "    - !, ? 만 남기기"
   ]
  },
  {
   "cell_type": "code",
   "execution_count": 8,
   "metadata": {},
   "outputs": [],
   "source": [
    "def preprocess_text(text):\n",
    "    cleaned_text = text.replace(\"\\n\",\" \")\n",
    "    cleaned_text = re.sub(r'\\s+', ' ', cleaned_text) \n",
    "    \n",
    "    return cleaned_text.strip()"
   ]
  },
  {
   "cell_type": "code",
   "execution_count": null,
   "metadata": {},
   "outputs": [],
   "source": [
    "reviews['message(cleaned)'] = reviews['message'].apply(preprocess_text)\n",
    "\n",
    "cols = ['message', 'message(cleaned)']\n",
    "reviews[cols].head()"
   ]
  },
  {
   "cell_type": "markdown",
   "metadata": {},
   "source": [
    "### Add Length of Message"
   ]
  },
  {
   "cell_type": "code",
   "execution_count": null,
   "metadata": {},
   "outputs": [],
   "source": [
    "reviews['message_length'] = reviews['message(cleaned)'].str.len()\n",
    "\n",
    "cols = ['message(cleaned)', \"message_length\"]\n",
    "reviews[cols].head()"
   ]
  },
  {
   "cell_type": "markdown",
   "metadata": {},
   "source": [
    "### Label Sentiment"
   ]
  },
  {
   "cell_type": "markdown",
   "metadata": {},
   "source": [
    "토큰이 512개가 넘어가면 에러가난다. 따라서 토큰개수가 기준보다 많으면 가운데 100글자를 제거하고 다시 예측한다.\n",
    "- 글의 서두와 말미에 감정을 보여주는 단어들이 주로 존재한다고 가정. 중심부는 설명문에 가까울 것이다!"
   ]
  },
  {
   "cell_type": "code",
   "execution_count": null,
   "metadata": {},
   "outputs": [],
   "source": [
    "reviews.loc[reviews['score'] > 3, 'sentiment'] = 'Positive'\n",
    "reviews.loc[reviews['score'] < 3, 'sentiment'] = 'Negative'\n",
    "neutral_reviews = reviews.loc[reviews['score'] == 3]\n",
    "# positive_reviews = reviews[reviews['score'] > 3]\n",
    "# negative_reviews = reviews[reviews['score'] < 3]\n",
    "\n",
    "print(neutral_reviews.shape)\n",
    "neutral_reviews.head()"
   ]
  },
  {
   "cell_type": "code",
   "execution_count": null,
   "metadata": {},
   "outputs": [],
   "source": [
    "sa = Pororo(task=\"sentiment\", model=\"brainbert.base.ko.nsmc\", lang=\"ko\")"
   ]
  },
  {
   "cell_type": "code",
   "execution_count": 68,
   "metadata": {},
   "outputs": [],
   "source": [
    "def predict_sentiment(message):\n",
    "#     sa = Pororo(task=\"sentiment\", model=\"brainbert.base.ko.nsmc\", lang=\"ko\")\n",
    "    try:\n",
    "        sentiment = sa(message)\n",
    "        \n",
    "    except :\n",
    "        message_length = len(message)\n",
    "        sentiment = predict_sentiment(message[: int(message_length / 2) - 50] + message[int(message_length / 2) + 50 :])\n",
    "        \n",
    "    return sentiment"
   ]
  },
  {
   "cell_type": "code",
   "execution_count": 69,
   "metadata": {},
   "outputs": [
    {
     "data": {
      "text/plain": [
       "'Negative'"
      ]
     },
     "execution_count": 69,
     "metadata": {},
     "output_type": "execute_result"
    }
   ],
   "source": [
    "predict_sentiment(reviews.loc[97474, 'message'])"
   ]
  },
  {
   "cell_type": "code",
   "execution_count": null,
   "metadata": {},
   "outputs": [],
   "source": [
    "reviews.loc[reviews['score'] == 3, \"sentiment\"] = reviews.loc[reviews['score'] == 3, \"message(cleaned)\"].apply(predict_sentiment)\n",
    "reviews.loc[reviews['score'].isnull(), 'sentiment'] = reviews.loc[reviews['score'].isnull(), 'message(cleaned)'].apply(predict_sentiment)\n",
    "\n",
    "cols = ['message(cleaned)', 'sentiment']\n",
    "reviews[cols].head()"
   ]
  },
  {
   "cell_type": "code",
   "execution_count": 75,
   "metadata": {},
   "outputs": [],
   "source": [
    "# reviews.to_csv(\"data/backup.csv\", index=False)"
   ]
  },
  {
   "cell_type": "markdown",
   "metadata": {},
   "source": [
    "### Predict Score"
   ]
  },
  {
   "cell_type": "markdown",
   "metadata": {},
   "source": [
    "- 지금은 공백만 제거하고(글자수 줄이기 위해) 넣어줬다. 뽀로로가 알아서 해줄거기 때문!"
   ]
  },
  {
   "cell_type": "markdown",
   "metadata": {},
   "source": [
    "마찬가지로 토큰수가 512 이상이면 에러가 난다.\n",
    "\n",
    "- 토큰수가 512 이하가 될 때까지 글의 중간을 삭제한다. 현재는 100자씩 삭제하였다. 글의 중간보다 앞뒤에 작성자의 감정이 더 담겨있을거라고 가정하였다. 글의 중간은 보통 상세한 설명 등의 분석글일 수 있다."
   ]
  },
  {
   "cell_type": "code",
   "execution_count": 76,
   "metadata": {},
   "outputs": [
    {
     "data": {
      "text/plain": [
       "[TASK]: REVIEW\n",
       "[LANG]: KO\n",
       "[MODEL]: brainbert.base.ko.review_rating"
      ]
     },
     "execution_count": 76,
     "metadata": {},
     "output_type": "execute_result"
    }
   ],
   "source": [
    "review_scorer = Pororo(task=\"review\", lang=\"ko\")\n",
    "\n",
    "review_scorer"
   ]
  },
  {
   "cell_type": "code",
   "execution_count": 13,
   "metadata": {},
   "outputs": [
    {
     "name": "stdout",
     "output_type": "stream",
     "text": [
      "4.96\n",
      "4.6 4.83\n",
      "1.35 1.28\n",
      "3.34 3.91 3.01\n"
     ]
    }
   ],
   "source": [
    "print(review_scorer(\"진짜 너무 완전 짱 좋아요 추천 역대급\"))\n",
    "print(review_scorer(\"좋아요\"), review_scorer(\"좋아요!\"))\n",
    "print(review_scorer(\"싫어요\"), review_scorer(\"싫어요!\"))\n",
    "print(review_scorer(\".\"), review_scorer(\"dd\"), review_scorer(\"ㅇㄹㅁㄹㄴㅇ\"))"
   ]
  },
  {
   "cell_type": "code",
   "execution_count": 79,
   "metadata": {},
   "outputs": [],
   "source": [
    "def predict_score(message):\n",
    "    try:\n",
    "        score = review_scorer(message)\n",
    "        \n",
    "    except :\n",
    "        message_length = len(message)\n",
    "        score = review_scorer(message[: int(message_length / 2) - 50] + message[int(message_length / 2) + 50 :])\n",
    "        \n",
    "    return score"
   ]
  },
  {
   "cell_type": "code",
   "execution_count": null,
   "metadata": {},
   "outputs": [],
   "source": [
    "reviews['score(predicted)'] = reviews['message(cleaned)'].apply(predict_score)\n",
    "\n",
    "reviews.to_csv(\"data/reviews_predicted.csv\", index=False)\n",
    "\n",
    "cols = ['message(cleaned)', 'score(predicted)']\n",
    "reviews.head()"
   ]
  },
  {
   "cell_type": "code",
   "execution_count": 82,
   "metadata": {
    "scrolled": true
   },
   "outputs": [
    {
     "data": {
      "text/html": [
       "<div>\n",
       "<style scoped>\n",
       "    .dataframe tbody tr th:only-of-type {\n",
       "        vertical-align: middle;\n",
       "    }\n",
       "\n",
       "    .dataframe tbody tr th {\n",
       "        vertical-align: top;\n",
       "    }\n",
       "\n",
       "    .dataframe thead th {\n",
       "        text-align: right;\n",
       "    }\n",
       "</style>\n",
       "<table border=\"1\" class=\"dataframe\">\n",
       "  <thead>\n",
       "    <tr style=\"text-align: right;\">\n",
       "      <th></th>\n",
       "      <th>score</th>\n",
       "      <th>score(predicted)</th>\n",
       "      <th>score(difference)</th>\n",
       "    </tr>\n",
       "  </thead>\n",
       "  <tbody>\n",
       "    <tr>\n",
       "      <th>count</th>\n",
       "      <td>110794.000000</td>\n",
       "      <td>110794.000000</td>\n",
       "      <td>110794.000000</td>\n",
       "    </tr>\n",
       "    <tr>\n",
       "      <th>mean</th>\n",
       "      <td>4.852041</td>\n",
       "      <td>4.320705</td>\n",
       "      <td>0.594163</td>\n",
       "    </tr>\n",
       "    <tr>\n",
       "      <th>std</th>\n",
       "      <td>0.541954</td>\n",
       "      <td>0.672884</td>\n",
       "      <td>0.560135</td>\n",
       "    </tr>\n",
       "    <tr>\n",
       "      <th>min</th>\n",
       "      <td>1.000000</td>\n",
       "      <td>1.020000</td>\n",
       "      <td>0.000000</td>\n",
       "    </tr>\n",
       "    <tr>\n",
       "      <th>25%</th>\n",
       "      <td>5.000000</td>\n",
       "      <td>4.180000</td>\n",
       "      <td>0.250000</td>\n",
       "    </tr>\n",
       "    <tr>\n",
       "      <th>50%</th>\n",
       "      <td>5.000000</td>\n",
       "      <td>4.510000</td>\n",
       "      <td>0.450000</td>\n",
       "    </tr>\n",
       "    <tr>\n",
       "      <th>75%</th>\n",
       "      <td>5.000000</td>\n",
       "      <td>4.730000</td>\n",
       "      <td>0.740000</td>\n",
       "    </tr>\n",
       "    <tr>\n",
       "      <th>max</th>\n",
       "      <td>5.000000</td>\n",
       "      <td>5.060000</td>\n",
       "      <td>3.930000</td>\n",
       "    </tr>\n",
       "  </tbody>\n",
       "</table>\n",
       "</div>"
      ],
      "text/plain": [
       "               score  score(predicted)  score(difference)\n",
       "count  110794.000000     110794.000000      110794.000000\n",
       "mean        4.852041          4.320705           0.594163\n",
       "std         0.541954          0.672884           0.560135\n",
       "min         1.000000          1.020000           0.000000\n",
       "25%         5.000000          4.180000           0.250000\n",
       "50%         5.000000          4.510000           0.450000\n",
       "75%         5.000000          4.730000           0.740000\n",
       "max         5.000000          5.060000           3.930000"
      ]
     },
     "execution_count": 82,
     "metadata": {},
     "output_type": "execute_result"
    }
   ],
   "source": [
    "reviews['score(difference)'] = abs(reviews['score'] - reviews['score(predicted)'])\n",
    "\n",
    "cols = ['score', 'score(predicted)', 'score(difference)']\n",
    "reviews[cols].describe()"
   ]
  },
  {
   "cell_type": "code",
   "execution_count": 83,
   "metadata": {},
   "outputs": [
    {
     "data": {
      "text/plain": [
       "<AxesSubplot:xlabel='score', ylabel='score(difference)'>"
      ]
     },
     "execution_count": 83,
     "metadata": {},
     "output_type": "execute_result"
    },
    {
     "data": {
      "image/png": "[encoded data removed]",
      "text/plain": [
       "<Figure size 1296x576 with 1 Axes>"
      ]
     },
     "metadata": {
      "image/png": {
       "height": 479,
       "width": 1063
      },
      "needs_background": "light"
     },
     "output_type": "display_data"
    }
   ],
   "source": [
    "plt.figure(figsize=(18, 8))\n",
    "\n",
    "sns.pointplot(data=reviews, x='score', y='score(difference)', hue='sentiment')"
   ]
  },
  {
   "cell_type": "code",
   "execution_count": null,
   "metadata": {},
   "outputs": [],
   "source": [
    "plt.figure(figsize=(13, 5))\n",
    "\n",
    "sns.distplot(reviews.loc[reviews['sentiment'] == 'Negative' , 'score(difference)'], hist=False)\n",
    "sns.distplot(reviews.loc[reviews['sentiment'] == 'Positive' , 'score(difference)'], hist=False)"
   ]
  },
  {
   "cell_type": "code",
   "execution_count": null,
   "metadata": {},
   "outputs": [],
   "source": [
    "plt.figure(figsize=(13, 8))\n",
    "\n",
    "sns.boxplot(data=reviews, x='sentiment', y='score(difference)')"
   ]
  },
  {
   "cell_type": "code",
   "execution_count": 98,
   "metadata": {},
   "outputs": [],
   "source": [
    "reviews['message_length(bin_100)'] = reviews['message_length'] // 100 * 100\n",
    "reviews['message_length(bin_10)'] = reviews['message_length'] // 10 * 10"
   ]
  },
  {
   "cell_type": "code",
   "execution_count": null,
   "metadata": {
    "scrolled": false
   },
   "outputs": [],
   "source": [
    "# 부정 / 긍정별로\n",
    "plt.figure(figsize=(18, 8))\n",
    "\n",
    "sns.lineplot(data=reviews, x='message_length(bin_10)', y='score(difference)', hue='sentiment')"
   ]
  },
  {
   "cell_type": "code",
   "execution_count": null,
   "metadata": {},
   "outputs": [],
   "source": [
    "# 부정 / 긍정별로\n",
    "plt.figure(figsize=(18, 8))\n",
    "\n",
    "sns.lineplot(data=reviews, x='message_length(bin_100)', y='score(difference)', hue='sentiment')"
   ]
  },
  {
   "cell_type": "markdown",
   "metadata": {},
   "source": [
    "#### 긍정리뷰에 차이가 4가나는 튀는 값은 1점짜리로 도배?한 리뷰가 있는데 한 개의 리뷰가 5점(아무거나 넣은듯, 97478 인덱스)이라서 그렇다. 무시하면 된다."
   ]
  },
  {
   "cell_type": "code",
   "execution_count": null,
   "metadata": {},
   "outputs": [],
   "source": [
    "cols = ['message_length', 'score(predicted)', 'score(difference)']\n",
    "\n",
    "# reviews[cols].corr()\n",
    "reviews.loc[reviews['sentiment'] == 'Positive', cols].drop(97478).corr()"
   ]
  },
  {
   "cell_type": "code",
   "execution_count": null,
   "metadata": {},
   "outputs": [],
   "source": [
    "reviews.loc[reviews['sentiment'] == 'Negative', cols].corr()"
   ]
  },
  {
   "cell_type": "markdown",
   "metadata": {},
   "source": [
    "#### 메세지의 길이가 길어질수록 예측정확도가 떨어질 수 있다.\n",
    "- 하지만 이는 뒤에서 나오듯이 고객이 별 생각없이 5점을 줬을 가능성이 있다. \n",
    "    - \"좋은데 이건 저건 요건 조금 아쉽네요~\" 이런식으로 문장은 길지만 5점을 준 경우들이 꽤 있다.\n",
    "    \n",
    "결론적으로 대표 스코어(스코어의 평균)을 계산할 때 평균낼 스코어들을 뽑는 기준으로 메세지의 최소 길이를 정해줄 수 있다. 지금은 x"
   ]
  },
  {
   "cell_type": "code",
   "execution_count": null,
   "metadata": {},
   "outputs": [],
   "source": [
    "reviews.loc[reviews['message_length'] < 10, cols]"
   ]
  },
  {
   "cell_type": "code",
   "execution_count": 137,
   "metadata": {},
   "outputs": [
    {
     "data": {
      "text/html": [
       "<div>\n",
       "<style scoped>\n",
       "    .dataframe tbody tr th:only-of-type {\n",
       "        vertical-align: middle;\n",
       "    }\n",
       "\n",
       "    .dataframe tbody tr th {\n",
       "        vertical-align: top;\n",
       "    }\n",
       "\n",
       "    .dataframe thead th {\n",
       "        text-align: right;\n",
       "    }\n",
       "</style>\n",
       "<table border=\"1\" class=\"dataframe\">\n",
       "  <thead>\n",
       "    <tr style=\"text-align: right;\">\n",
       "      <th></th>\n",
       "      <th>message</th>\n",
       "      <th>score</th>\n",
       "      <th>score(predicted)</th>\n",
       "    </tr>\n",
       "  </thead>\n",
       "  <tbody>\n",
       "    <tr>\n",
       "      <th>2</th>\n",
       "      <td>러블리 리본패턴 배색 플레어 원피스 \\n키158cm인 저한테는 무릎쯤 오고\\n디자인...</td>\n",
       "      <td>5</td>\n",
       "      <td>2.71</td>\n",
       "    </tr>\n",
       "    <tr>\n",
       "      <th>38</th>\n",
       "      <td>배송이 좀 느렸고 기본적인 흰색 면셔츠네요.\\n단품으로도 입고 레이어드해서도 입고 ...</td>\n",
       "      <td>5</td>\n",
       "      <td>3.46</td>\n",
       "    </tr>\n",
       "    <tr>\n",
       "      <th>41</th>\n",
       "      <td>만지는순간  보들보들  입을려고하는순간  뭔가 타이트하다라는느낌~~스판은 좋으나  ...</td>\n",
       "      <td>5</td>\n",
       "      <td>2.57</td>\n",
       "    </tr>\n",
       "    <tr>\n",
       "      <th>77</th>\n",
       "      <td>겨울임을 감안하고 샀어야 하는데, 예상했던 것과는 조금 다르지만 디자인 자체는 나쁘...</td>\n",
       "      <td>5</td>\n",
       "      <td>3.08</td>\n",
       "    </tr>\n",
       "    <tr>\n",
       "      <th>113</th>\n",
       "      <td>따뜻하고 풍성한데~ 너무 두꺼워서 좀 답답하고 약간 오버하는 기분도들어요 ㅎㅎ 근데...</td>\n",
       "      <td>5</td>\n",
       "      <td>3.18</td>\n",
       "    </tr>\n",
       "    <tr>\n",
       "      <th>...</th>\n",
       "      <td>...</td>\n",
       "      <td>...</td>\n",
       "      <td>...</td>\n",
       "    </tr>\n",
       "    <tr>\n",
       "      <th>110936</th>\n",
       "      <td>좀더 신경써주시길</td>\n",
       "      <td>5</td>\n",
       "      <td>2.40</td>\n",
       "    </tr>\n",
       "    <tr>\n",
       "      <th>110937</th>\n",
       "      <td>주머니부분\\n부자연스럽구\\n밑부분 뒷트입이필요할듯\\n종종걸음</td>\n",
       "      <td>5</td>\n",
       "      <td>3.07</td>\n",
       "    </tr>\n",
       "    <tr>\n",
       "      <th>110947</th>\n",
       "      <td>옷은이뻐요 색상도 이쁘구요 근데 가슴이 큰편이라\\n주름이 많이가니 핏이 죽더라고요\\...</td>\n",
       "      <td>5</td>\n",
       "      <td>1.69</td>\n",
       "    </tr>\n",
       "    <tr>\n",
       "      <th>110956</th>\n",
       "      <td>디자인이 여성스럽고 화사할 것 같아 구매했어요\\n샹각했던 것과 같은 느낌인데 재질이...</td>\n",
       "      <td>5</td>\n",
       "      <td>3.16</td>\n",
       "    </tr>\n",
       "    <tr>\n",
       "      <th>110963</th>\n",
       "      <td>색상이 사진과 다르게 조금 흐립니다 지금 입기엔 조금 추울거같아 3 4월에 입을 읏...</td>\n",
       "      <td>5</td>\n",
       "      <td>3.11</td>\n",
       "    </tr>\n",
       "  </tbody>\n",
       "</table>\n",
       "<p>6633 rows × 3 columns</p>\n",
       "</div>"
      ],
      "text/plain": [
       "                                                  message  score  \\\n",
       "2       러블리 리본패턴 배색 플레어 원피스 \\n키158cm인 저한테는 무릎쯤 오고\\n디자인...      5   \n",
       "38      배송이 좀 느렸고 기본적인 흰색 면셔츠네요.\\n단품으로도 입고 레이어드해서도 입고 ...      5   \n",
       "41      만지는순간  보들보들  입을려고하는순간  뭔가 타이트하다라는느낌~~스판은 좋으나  ...      5   \n",
       "77      겨울임을 감안하고 샀어야 하는데, 예상했던 것과는 조금 다르지만 디자인 자체는 나쁘...      5   \n",
       "113     따뜻하고 풍성한데~ 너무 두꺼워서 좀 답답하고 약간 오버하는 기분도들어요 ㅎㅎ 근데...      5   \n",
       "...                                                   ...    ...   \n",
       "110936                                          좀더 신경써주시길      5   \n",
       "110937                  주머니부분\\n부자연스럽구\\n밑부분 뒷트입이필요할듯\\n종종걸음      5   \n",
       "110947  옷은이뻐요 색상도 이쁘구요 근데 가슴이 큰편이라\\n주름이 많이가니 핏이 죽더라고요\\...      5   \n",
       "110956  디자인이 여성스럽고 화사할 것 같아 구매했어요\\n샹각했던 것과 같은 느낌인데 재질이...      5   \n",
       "110963  색상이 사진과 다르게 조금 흐립니다 지금 입기엔 조금 추울거같아 3 4월에 입을 읏...      5   \n",
       "\n",
       "        score(predicted)  \n",
       "2                   2.71  \n",
       "38                  3.46  \n",
       "41                  2.57  \n",
       "77                  3.08  \n",
       "113                 3.18  \n",
       "...                  ...  \n",
       "110936              2.40  \n",
       "110937              3.07  \n",
       "110947              1.69  \n",
       "110956              3.16  \n",
       "110963              3.11  \n",
       "\n",
       "[6633 rows x 3 columns]"
      ]
     },
     "execution_count": 137,
     "metadata": {},
     "output_type": "execute_result"
    }
   ],
   "source": [
    "cols = ['message', 'score', 'score(predicted)']\n",
    "\n",
    "# 3885개\n",
    "reviews.loc[reviews['score(difference)'] > 1.5, cols]"
   ]
  },
  {
   "cell_type": "code",
   "execution_count": 134,
   "metadata": {},
   "outputs": [
    {
     "data": {
      "text/plain": [
       "<AxesSubplot:xlabel='score(predicted)', ylabel='Density'>"
      ]
     },
     "execution_count": 134,
     "metadata": {},
     "output_type": "execute_result"
    },
    {
     "data": {
      "image/png": "[encoded data removed]",
      "text/plain": [
       "<Figure size 1296x576 with 1 Axes>"
      ]
     },
     "metadata": {
      "image/png": {
       "height": 479,
       "width": 1056
      },
      "needs_background": "light"
     },
     "output_type": "display_data"
    }
   ],
   "source": [
    "import warnings\n",
    "warnings.filterwarnings('ignore')\n",
    "\n",
    "plt.figure(figsize=(18, 8))\n",
    "\n",
    "tmp = reviews.loc[reviews['score(difference)'] > 1.5]\n",
    "\n",
    "sns.distplot((tmp['score(predicted)'] + tmp['score']) / 2, hist=False, color='red')\n",
    "sns.distplot(tmp['score'], hist=False, color='green')\n",
    "sns.distplot(tmp['score(predicted)'], hist=False)"
   ]
  },
  {
   "cell_type": "markdown",
   "metadata": {},
   "source": [
    "예측 스코어랑 차이가 많이 나는 것들을 보면 고객인 준 점수가 참고할만한(신뢰할만한) 점수인지 애매하다.\n",
    "- 옷은 예쁜데 몇가지가 맘에 들지 않는다 or 주문취소인 경우가 보인다.\n",
    "\n",
    "차이가 큰 것들의 케이스는 아래와 같다.\n",
    "\n",
    "case 1\n",
    "```\n",
    "후기 : 안따듯해요\t\n",
    "고객점수 : 1\n",
    "예측점수 : 3.35\n",
    "\n",
    "이 케이스는 뽀로로가 예측한 점수가 아닌 고객점수를 사용한다.\n",
    "```\n",
    "      \n",
    "      \n",
    "case 2\n",
    "```\n",
    "후기 : 좀더신경써주길\t\n",
    "고객점수 : 5\n",
    "예측점수 : 2.40\n",
    "\n",
    "이 케이스는 고객이 만족은 하는데 조금 아쉬워하는 케이스. 결론적으로 만족! 고객의 만족을 반영하기 위해 고객점수랑 예측점수를 평균낸다.\n",
    "```\n",
    "\n",
    "\n",
    "1. [x] 고객점수가 더 높으면서 차이가 큰 경우만 예측한 점수와 고객의 점수의 평균\n",
    "2. 뽀로로가 예측한 점수로 대체\n",
    "\n"
   ]
  },
  {
   "cell_type": "markdown",
   "metadata": {},
   "source": [
    "### Get Mean of Score \n",
    "\n",
    "고객점수가 더 높으면서 차이가 큰 경우만 예측한 점수와 고객의 점수의 평균내어 사용한다.\n",
    "\n",
    "차이는 임의로 1.5로 지정한다."
   ]
  },
  {
   "cell_type": "code",
   "execution_count": null,
   "metadata": {},
   "outputs": [],
   "source": [
    "reviews['score(final)'] = reviews['score(predicted)'].copy()\n",
    "\n",
    "c1 = reviews['score(difference)'] >= 1.5\n",
    "c2 = reviews['score(predicted)'] < reviews['score']\n",
    "\n",
    "reviews.loc[c1&c2, 'score(final)'] = (reviews.loc[c1&c2, 'score'] + reviews.loc[c1&c2, 'score(predicted)']) / 2\n",
    "\n",
    "cols = ['score', 'score(predicted)', 'score(final)', 'message(cleaned)']\n",
    "reviews.loc[c1&c2, cols].head()"
   ]
  },
  {
   "cell_type": "markdown",
   "metadata": {},
   "source": [
    "### 대표 스코어 선정"
   ]
  },
  {
   "cell_type": "code",
   "execution_count": null,
   "metadata": {},
   "outputs": [],
   "source": [
    "score_per_product = reviews.groupby(\"product_code\")['score(final)'].mean().reset_index()\n",
    "\n",
    "products = products.merge(score_per_product, left_on='code', right_on='product_code', how='left')\n",
    "\n",
    "print(products.shape)\n",
    "products.head()"
   ]
  },
  {
   "cell_type": "markdown",
   "metadata": {},
   "source": [
    "### 대표 리뷰 뽑기"
   ]
  },
  {
   "cell_type": "markdown",
   "metadata": {},
   "source": [
    "현재는 score_final이 가장 높은 리뷰를 뽑는다.\n",
    "\n",
    "같은 값이 있을 수 있는데 현재는 쉽게 가자! 첫 번째 값을 뽑는다."
   ]
  },
  {
   "cell_type": "code",
   "execution_count": null,
   "metadata": {},
   "outputs": [],
   "source": [
    "# product마다 최대가 되는 index를 뽑는다. 인덱스를 id로 지정하고 시작하면 rename을 번거롭게 하지 않아도 될듯하네 ㅇㅅㅇ\n",
    "df = reviews.groupby(\"product_id\")['score_final'].idxmax()\\\n",
    "        .reset_index()\\\n",
    "        .rename(columns={\"score_final\" : \"index\"})\\\n",
    "        .sort_values(\"product_id\")\n",
    "#         .rename(columns={\"score_final\" : \"representative_reviews\"})\n",
    "# reviews.loc[idx, 'score_final'].reset_index().rename(columns={\"score_final\" : \"max_score_of_product\"})\n",
    "\n",
    "# 뽑은 index의 review_id를 뽑는다.\n",
    "# 혹시 모르니 정렬을 잘해주자.\n",
    "df['representative_review_id'] = reviews.loc[df['index'].values].sort_values('product_id')['id'].values\n",
    "\n",
    "# 사용할 컬럼만 뽑고\n",
    "df = df[['product_id', 'representative_review_id']]\n",
    "\n",
    "# merge 해주자!\n",
    "products_final = products_final.merge(df, left_on='id', right_on=\"product_id\", how='left')\n",
    "\n",
    "print(products_final.shape)\n",
    "products_final.head()"
   ]
  },
  {
   "cell_type": "code",
   "execution_count": null,
   "metadata": {},
   "outputs": [],
   "source": [
    "cols = ['id', 'name', 'code', 'representative_score', 'representative_review_id', 'display', 'created_at',\n",
    "       'updated_at', 'shop_builder_created_at', 'shop_builder_updated_at',\n",
    "       'reviews_count', 'org_price', 'final_price', 'product_status', 'image',\n",
    "       'message_positive', 'top1_sentence_of_positive_reviews',\n",
    "       'top2_sentence_of_positive_reviews',\n",
    "       'top3_sentence_of_positive_reviews',\n",
    "       'top4_sentence_of_positive_reviews',\n",
    "       'top5_sentence_of_positive_reviews',\n",
    "       'related_10_reviews_with_top1_sentence_of_positive_reviews',\n",
    "       'related_10_reviews_with_top2_sentence_of_positive_reviews',\n",
    "       'related_10_reviews_with_top3_sentence_of_positive_reviews',\n",
    "       'related_10_reviews_with_top4_sentence_of_positive_reviews',\n",
    "       'related_10_reviews_with_top5_sentence_of_positive_reviews',\n",
    "       'message_negative', 'top1_sentence_of_negative_reviews',\n",
    "       'top2_sentence_of_negative_reviews',\n",
    "       'top3_sentence_of_negative_reviews',\n",
    "       'top4_sentence_of_negative_reviews',\n",
    "       'top5_sentence_of_negative_reviews',\n",
    "       'related_10_reviews_with_top1_sentence_of_negative_reviews',\n",
    "       'related_10_reviews_with_top2_sentence_of_negative_reviews',\n",
    "       'related_10_reviews_with_top3_sentence_of_negative_reviews',\n",
    "       'related_10_reviews_with_top4_sentence_of_negative_reviews',\n",
    "       'related_10_reviews_with_top5_sentence_of_negative_reviews',]\n",
    "\n",
    "products_final = products_final[cols]\n",
    "\n",
    "products_final.head()"
   ]
  },
  {
   "cell_type": "code",
   "execution_count": 132,
   "metadata": {
    "collapsed": true
   },
   "outputs": [
    {
     "data": {
      "text/html": [
       "<div>\n",
       "<style scoped>\n",
       "    .dataframe tbody tr th:only-of-type {\n",
       "        vertical-align: middle;\n",
       "    }\n",
       "\n",
       "    .dataframe tbody tr th {\n",
       "        vertical-align: top;\n",
       "    }\n",
       "\n",
       "    .dataframe thead th {\n",
       "        text-align: right;\n",
       "    }\n",
       "</style>\n",
       "<table border=\"1\" class=\"dataframe\">\n",
       "  <thead>\n",
       "    <tr style=\"text-align: right;\">\n",
       "      <th></th>\n",
       "      <th>id</th>\n",
       "      <th>name</th>\n",
       "      <th>code</th>\n",
       "      <th>representative_score</th>\n",
       "      <th>representative_review_id</th>\n",
       "      <th>display</th>\n",
       "      <th>created_at</th>\n",
       "      <th>updated_at</th>\n",
       "      <th>shop_builder_created_at</th>\n",
       "      <th>shop_builder_updated_at</th>\n",
       "      <th>...</th>\n",
       "      <th>top2_sentence_of_negative_reviews</th>\n",
       "      <th>top3_sentence_of_negative_reviews</th>\n",
       "      <th>top4_sentence_of_negative_reviews</th>\n",
       "      <th>top5_sentence_of_negative_reviews</th>\n",
       "      <th>related_10_reviews_with_top1_sentence_of_negative_reviews</th>\n",
       "      <th>related_10_reviews_with_top2_sentence_of_negative_reviews</th>\n",
       "      <th>related_10_reviews_with_top3_sentence_of_negative_reviews</th>\n",
       "      <th>related_10_reviews_with_top4_sentence_of_negative_reviews</th>\n",
       "      <th>related_10_reviews_with_top5_sentence_of_negative_reviews</th>\n",
       "      <th>representative_review_message</th>\n",
       "    </tr>\n",
       "  </thead>\n",
       "  <tbody>\n",
       "    <tr>\n",
       "      <th>0</th>\n",
       "      <td>224376</td>\n",
       "      <td>글램 실키 슬립</td>\n",
       "      <td>37296</td>\n",
       "      <td>4.155595</td>\n",
       "      <td>4676708.0</td>\n",
       "      <td>True</td>\n",
       "      <td>2014-01-21T00:16:46.000+09:00</td>\n",
       "      <td>2021-02-15T03:46:27.000+09:00</td>\n",
       "      <td>2010-09-28T18:02:40.000+09:00</td>\n",
       "      <td>2019-11-29T00:15:01.000+09:00</td>\n",
       "      <td>...</td>\n",
       "      <td>패망임.. ㅋ후기 보니 헐렁하대서. .ㅋㅋ</td>\n",
       "      <td>생각보다 너무 짧아요...</td>\n",
       "      <td>못 입을 정도는 아니지만 타이트하다는.. ᅮᅮ 여러 개 시 켰는데..</td>\n",
       "      <td>다들 넉넉하다는 후기 보고 s 시켰는데..</td>\n",
       "      <td>[4716704, 4716697, 4597523, 4725377, 4676748, ...</td>\n",
       "      <td>[4711430, 4716704, 4711426, 4716697, 4676748, ...</td>\n",
       "      <td>[4716704, 4597523, 4716697, 4676748, 4723403, ...</td>\n",
       "      <td>[4711426, 4676748, 4703860, 4716704, 4711430, ...</td>\n",
       "      <td>[4716704, 4711426, 4650096, 4716697, 4676748, ...</td>\n",
       "      <td>넘넘 아쁘고 고급집니다55잘 맞습니다  골드의 윤택이 빛이 납니다  감사합니다 겔이...</td>\n",
       "    </tr>\n",
       "    <tr>\n",
       "      <th>1</th>\n",
       "      <td>224400</td>\n",
       "      <td>실리콘 누브라</td>\n",
       "      <td>48837</td>\n",
       "      <td>4.450000</td>\n",
       "      <td>4686224.0</td>\n",
       "      <td>True</td>\n",
       "      <td>2014-01-21T00:16:52.000+09:00</td>\n",
       "      <td>2020-12-07T18:29:44.000+09:00</td>\n",
       "      <td>2011-04-28T18:25:42.000+09:00</td>\n",
       "      <td>2019-11-29T00:15:01.000+09:00</td>\n",
       "      <td>...</td>\n",
       "      <td>NaN</td>\n",
       "      <td>NaN</td>\n",
       "      <td>NaN</td>\n",
       "      <td>NaN</td>\n",
       "      <td>NaN</td>\n",
       "      <td>NaN</td>\n",
       "      <td>NaN</td>\n",
       "      <td>NaN</td>\n",
       "      <td>NaN</td>\n",
       "      <td>볼륨도 살아보이고 접착부분이 너무 좋네요💞💞\\n👉연결부분도 넘좋아 많족하고 착용했습...</td>\n",
       "    </tr>\n",
       "    <tr>\n",
       "      <th>2</th>\n",
       "      <td>224449</td>\n",
       "      <td>40NY 슬림 착압 스타킹</td>\n",
       "      <td>791639</td>\n",
       "      <td>4.472797</td>\n",
       "      <td>4613084.0</td>\n",
       "      <td>True</td>\n",
       "      <td>2014-01-21T00:17:22.000+09:00</td>\n",
       "      <td>2021-02-16T04:58:22.000+09:00</td>\n",
       "      <td>2013-09-25T17:51:24.000+09:00</td>\n",
       "      <td>2020-05-25T14:49:09.000+09:00</td>\n",
       "      <td>...</td>\n",
       "      <td>NaN</td>\n",
       "      <td>NaN</td>\n",
       "      <td>NaN</td>\n",
       "      <td>NaN</td>\n",
       "      <td>NaN</td>\n",
       "      <td>NaN</td>\n",
       "      <td>NaN</td>\n",
       "      <td>NaN</td>\n",
       "      <td>NaN</td>\n",
       "      <td>너무너무 좋아요.진짜진짜 찿고찿았던 스타킹,재구매들어갑니다.겨울용 두껍고 여름용은 ...</td>\n",
       "    </tr>\n",
       "    <tr>\n",
       "      <th>3</th>\n",
       "      <td>224454</td>\n",
       "      <td>동글 블랙 안경테</td>\n",
       "      <td>60281</td>\n",
       "      <td>4.611071</td>\n",
       "      <td>4599943.0</td>\n",
       "      <td>True</td>\n",
       "      <td>2014-01-21T00:17:25.000+09:00</td>\n",
       "      <td>2021-01-21T11:05:04.000+09:00</td>\n",
       "      <td>2012-05-10T11:46:39.000+09:00</td>\n",
       "      <td>2019-11-29T00:16:28.000+09:00</td>\n",
       "      <td>...</td>\n",
       "      <td>NaN</td>\n",
       "      <td>NaN</td>\n",
       "      <td>NaN</td>\n",
       "      <td>NaN</td>\n",
       "      <td>NaN</td>\n",
       "      <td>NaN</td>\n",
       "      <td>NaN</td>\n",
       "      <td>NaN</td>\n",
       "      <td>NaN</td>\n",
       "      <td>디자인 고급스럽고 예뻐요. 안경점에서 구입한 것 보다 더 깔끔하면서도 단단해서 컴퓨...</td>\n",
       "    </tr>\n",
       "    <tr>\n",
       "      <th>4</th>\n",
       "      <td>224519</td>\n",
       "      <td>소프트 누드 팬티</td>\n",
       "      <td>37303</td>\n",
       "      <td>4.520000</td>\n",
       "      <td>4687643.0</td>\n",
       "      <td>True</td>\n",
       "      <td>2014-01-21T00:18:04.000+09:00</td>\n",
       "      <td>2021-02-16T19:40:20.000+09:00</td>\n",
       "      <td>2010-09-28T18:16:12.000+09:00</td>\n",
       "      <td>2019-11-29T00:15:01.000+09:00</td>\n",
       "      <td>...</td>\n",
       "      <td>NaN</td>\n",
       "      <td>NaN</td>\n",
       "      <td>NaN</td>\n",
       "      <td>NaN</td>\n",
       "      <td>NaN</td>\n",
       "      <td>NaN</td>\n",
       "      <td>NaN</td>\n",
       "      <td>NaN</td>\n",
       "      <td>NaN</td>\n",
       "      <td>구입하고 오늘 입어보니, 착용감이 너무 좋아\\n조만간 몇장 더 구입할려구요.\\n가볍...</td>\n",
       "    </tr>\n",
       "  </tbody>\n",
       "</table>\n",
       "<p>5 rows × 38 columns</p>\n",
       "</div>"
      ],
      "text/plain": [
       "       id            name    code  representative_score  \\\n",
       "0  224376        글램 실키 슬립   37296              4.155595   \n",
       "1  224400         실리콘 누브라   48837              4.450000   \n",
       "2  224449  40NY 슬림 착압 스타킹  791639              4.472797   \n",
       "3  224454       동글 블랙 안경테   60281              4.611071   \n",
       "4  224519       소프트 누드 팬티   37303              4.520000   \n",
       "\n",
       "   representative_review_id  display                     created_at  \\\n",
       "0                 4676708.0     True  2014-01-21T00:16:46.000+09:00   \n",
       "1                 4686224.0     True  2014-01-21T00:16:52.000+09:00   \n",
       "2                 4613084.0     True  2014-01-21T00:17:22.000+09:00   \n",
       "3                 4599943.0     True  2014-01-21T00:17:25.000+09:00   \n",
       "4                 4687643.0     True  2014-01-21T00:18:04.000+09:00   \n",
       "\n",
       "                      updated_at        shop_builder_created_at  \\\n",
       "0  2021-02-15T03:46:27.000+09:00  2010-09-28T18:02:40.000+09:00   \n",
       "1  2020-12-07T18:29:44.000+09:00  2011-04-28T18:25:42.000+09:00   \n",
       "2  2021-02-16T04:58:22.000+09:00  2013-09-25T17:51:24.000+09:00   \n",
       "3  2021-01-21T11:05:04.000+09:00  2012-05-10T11:46:39.000+09:00   \n",
       "4  2021-02-16T19:40:20.000+09:00  2010-09-28T18:16:12.000+09:00   \n",
       "\n",
       "         shop_builder_updated_at  ...  top2_sentence_of_negative_reviews  \\\n",
       "0  2019-11-29T00:15:01.000+09:00  ...            패망임.. ㅋ후기 보니 헐렁하대서. .ㅋㅋ   \n",
       "1  2019-11-29T00:15:01.000+09:00  ...                                NaN   \n",
       "2  2020-05-25T14:49:09.000+09:00  ...                                NaN   \n",
       "3  2019-11-29T00:16:28.000+09:00  ...                                NaN   \n",
       "4  2019-11-29T00:15:01.000+09:00  ...                                NaN   \n",
       "\n",
       "   top3_sentence_of_negative_reviews       top4_sentence_of_negative_reviews  \\\n",
       "0                     생각보다 너무 짧아요...  못 입을 정도는 아니지만 타이트하다는.. ᅮᅮ 여러 개 시 켰는데..   \n",
       "1                                NaN                                     NaN   \n",
       "2                                NaN                                     NaN   \n",
       "3                                NaN                                     NaN   \n",
       "4                                NaN                                     NaN   \n",
       "\n",
       "  top5_sentence_of_negative_reviews  \\\n",
       "0           다들 넉넉하다는 후기 보고 s 시켰는데..   \n",
       "1                               NaN   \n",
       "2                               NaN   \n",
       "3                               NaN   \n",
       "4                               NaN   \n",
       "\n",
       "  related_10_reviews_with_top1_sentence_of_negative_reviews  \\\n",
       "0  [4716704, 4716697, 4597523, 4725377, 4676748, ...          \n",
       "1                                                NaN          \n",
       "2                                                NaN          \n",
       "3                                                NaN          \n",
       "4                                                NaN          \n",
       "\n",
       "  related_10_reviews_with_top2_sentence_of_negative_reviews  \\\n",
       "0  [4711430, 4716704, 4711426, 4716697, 4676748, ...          \n",
       "1                                                NaN          \n",
       "2                                                NaN          \n",
       "3                                                NaN          \n",
       "4                                                NaN          \n",
       "\n",
       "  related_10_reviews_with_top3_sentence_of_negative_reviews  \\\n",
       "0  [4716704, 4597523, 4716697, 4676748, 4723403, ...          \n",
       "1                                                NaN          \n",
       "2                                                NaN          \n",
       "3                                                NaN          \n",
       "4                                                NaN          \n",
       "\n",
       "  related_10_reviews_with_top4_sentence_of_negative_reviews  \\\n",
       "0  [4711426, 4676748, 4703860, 4716704, 4711430, ...          \n",
       "1                                                NaN          \n",
       "2                                                NaN          \n",
       "3                                                NaN          \n",
       "4                                                NaN          \n",
       "\n",
       "  related_10_reviews_with_top5_sentence_of_negative_reviews  \\\n",
       "0  [4716704, 4711426, 4650096, 4716697, 4676748, ...          \n",
       "1                                                NaN          \n",
       "2                                                NaN          \n",
       "3                                                NaN          \n",
       "4                                                NaN          \n",
       "\n",
       "                       representative_review_message  \n",
       "0  넘넘 아쁘고 고급집니다55잘 맞습니다  골드의 윤택이 빛이 납니다  감사합니다 겔이...  \n",
       "1  볼륨도 살아보이고 접착부분이 너무 좋네요💞💞\\n👉연결부분도 넘좋아 많족하고 착용했습...  \n",
       "2  너무너무 좋아요.진짜진짜 찿고찿았던 스타킹,재구매들어갑니다.겨울용 두껍고 여름용은 ...  \n",
       "3  디자인 고급스럽고 예뻐요. 안경점에서 구입한 것 보다 더 깔끔하면서도 단단해서 컴퓨...  \n",
       "4  구입하고 오늘 입어보니, 착용감이 너무 좋아\\n조만간 몇장 더 구입할려구요.\\n가볍...  \n",
       "\n",
       "[5 rows x 38 columns]"
      ]
     },
     "execution_count": 132,
     "metadata": {},
     "output_type": "execute_result"
    }
   ],
   "source": [
    "products_final = products_final.merge(reviews_final[['id', 'message']].rename(columns={'id' : \"review_id\"}), \n",
    "                                     left_on='representative_review_id', right_on='review_id')\\\n",
    "                                .drop(columns='review_id')\\\n",
    "                                .rename(columns={'message' : \"representative_review_message\"})\n",
    "\n",
    "\n",
    "products_final.head()"
   ]
  },
  {
   "cell_type": "markdown",
   "metadata": {},
   "source": [
    "### 상품별로 후기 모아놓기"
   ]
  },
  {
   "cell_type": "code",
   "execution_count": 165,
   "metadata": {},
   "outputs": [
    {
     "name": "stdout",
     "output_type": "stream",
     "text": [
      "(37112, 17)\n"
     ]
    },
    {
     "data": {
      "text/html": [
       "<div>\n",
       "<style scoped>\n",
       "    .dataframe tbody tr th:only-of-type {\n",
       "        vertical-align: middle;\n",
       "    }\n",
       "\n",
       "    .dataframe tbody tr th {\n",
       "        vertical-align: top;\n",
       "    }\n",
       "\n",
       "    .dataframe thead th {\n",
       "        text-align: right;\n",
       "    }\n",
       "</style>\n",
       "<table border=\"1\" class=\"dataframe\">\n",
       "  <thead>\n",
       "    <tr style=\"text-align: right;\">\n",
       "      <th></th>\n",
       "      <th>id</th>\n",
       "      <th>name</th>\n",
       "      <th>code</th>\n",
       "      <th>display</th>\n",
       "      <th>created_at</th>\n",
       "      <th>updated_at</th>\n",
       "      <th>shop_builder_created_at</th>\n",
       "      <th>shop_builder_updated_at</th>\n",
       "      <th>reviews_count</th>\n",
       "      <th>org_price</th>\n",
       "      <th>final_price</th>\n",
       "      <th>product_status</th>\n",
       "      <th>image</th>\n",
       "      <th>product_code_x</th>\n",
       "      <th>message(positive)</th>\n",
       "      <th>product_code_y</th>\n",
       "      <th>message(negative)</th>\n",
       "    </tr>\n",
       "  </thead>\n",
       "  <tbody>\n",
       "    <tr>\n",
       "      <th>0</th>\n",
       "      <td>224370</td>\n",
       "      <td>와이드 퍼 무스탕</td>\n",
       "      <td>796006</td>\n",
       "      <td>True</td>\n",
       "      <td>2014-01-21T00:16:42.000+09:00</td>\n",
       "      <td>2020-12-07T18:29:42.000+09:00</td>\n",
       "      <td>2013-12-04T14:40:20.000+09:00</td>\n",
       "      <td>2019-06-03T20:49:00.000+09:00</td>\n",
       "      <td>3</td>\n",
       "      <td>89700</td>\n",
       "      <td>89700</td>\n",
       "      <td>selling</td>\n",
       "      <td>{'middle_url': 'https://assets1.cre.ma/p/ode-c...</td>\n",
       "      <td>NaN</td>\n",
       "      <td>NaN</td>\n",
       "      <td>NaN</td>\n",
       "      <td>NaN</td>\n",
       "    </tr>\n",
       "    <tr>\n",
       "      <th>1</th>\n",
       "      <td>224371</td>\n",
       "      <td>잔꽃 코듀로이 블라우스</td>\n",
       "      <td>796004</td>\n",
       "      <td>True</td>\n",
       "      <td>2014-01-21T00:16:43.000+09:00</td>\n",
       "      <td>2020-12-07T18:29:42.000+09:00</td>\n",
       "      <td>2013-12-04T14:40:20.000+09:00</td>\n",
       "      <td>2019-06-12T14:25:00.000+09:00</td>\n",
       "      <td>1</td>\n",
       "      <td>51300</td>\n",
       "      <td>36000</td>\n",
       "      <td>selling</td>\n",
       "      <td>{'middle_url': 'https://assets1.cre.ma/p/ode-c...</td>\n",
       "      <td>NaN</td>\n",
       "      <td>NaN</td>\n",
       "      <td>NaN</td>\n",
       "      <td>NaN</td>\n",
       "    </tr>\n",
       "    <tr>\n",
       "      <th>2</th>\n",
       "      <td>224372</td>\n",
       "      <td>레디아 체크 스커트</td>\n",
       "      <td>795594</td>\n",
       "      <td>True</td>\n",
       "      <td>2014-01-21T00:16:43.000+09:00</td>\n",
       "      <td>2020-12-07T18:29:42.000+09:00</td>\n",
       "      <td>2013-11-26T16:44:02.000+09:00</td>\n",
       "      <td>2019-06-12T14:50:00.000+09:00</td>\n",
       "      <td>2</td>\n",
       "      <td>34600</td>\n",
       "      <td>17300</td>\n",
       "      <td>selling</td>\n",
       "      <td>{'middle_url': 'https://assets1.cre.ma/p/ode-c...</td>\n",
       "      <td>NaN</td>\n",
       "      <td>NaN</td>\n",
       "      <td>NaN</td>\n",
       "      <td>NaN</td>\n",
       "    </tr>\n",
       "    <tr>\n",
       "      <th>3</th>\n",
       "      <td>224373</td>\n",
       "      <td>샤론 스트링 조끼</td>\n",
       "      <td>793896</td>\n",
       "      <td>True</td>\n",
       "      <td>2014-01-21T00:16:45.000+09:00</td>\n",
       "      <td>2020-12-07T18:29:42.000+09:00</td>\n",
       "      <td>2013-11-01T17:12:51.000+09:00</td>\n",
       "      <td>2019-06-03T20:57:00.000+09:00</td>\n",
       "      <td>2</td>\n",
       "      <td>78600</td>\n",
       "      <td>78600</td>\n",
       "      <td>selling</td>\n",
       "      <td>{'middle_url': 'https://assets1.cre.ma/p/ode-c...</td>\n",
       "      <td>NaN</td>\n",
       "      <td>NaN</td>\n",
       "      <td>NaN</td>\n",
       "      <td>NaN</td>\n",
       "    </tr>\n",
       "    <tr>\n",
       "      <th>4</th>\n",
       "      <td>224374</td>\n",
       "      <td>이브 플레어 블라우스</td>\n",
       "      <td>794045</td>\n",
       "      <td>True</td>\n",
       "      <td>2014-01-21T00:16:45.000+09:00</td>\n",
       "      <td>2020-12-07T18:29:42.000+09:00</td>\n",
       "      <td>2013-11-04T17:16:40.000+09:00</td>\n",
       "      <td>2019-06-12T14:24:00.000+09:00</td>\n",
       "      <td>3</td>\n",
       "      <td>34800</td>\n",
       "      <td>34800</td>\n",
       "      <td>selling</td>\n",
       "      <td>{'middle_url': 'https://assets1.cre.ma/p/ode-c...</td>\n",
       "      <td>NaN</td>\n",
       "      <td>NaN</td>\n",
       "      <td>NaN</td>\n",
       "      <td>NaN</td>\n",
       "    </tr>\n",
       "  </tbody>\n",
       "</table>\n",
       "</div>"
      ],
      "text/plain": [
       "       id          name    code  display                     created_at  \\\n",
       "0  224370     와이드 퍼 무스탕  796006     True  2014-01-21T00:16:42.000+09:00   \n",
       "1  224371  잔꽃 코듀로이 블라우스  796004     True  2014-01-21T00:16:43.000+09:00   \n",
       "2  224372    레디아 체크 스커트  795594     True  2014-01-21T00:16:43.000+09:00   \n",
       "3  224373     샤론 스트링 조끼  793896     True  2014-01-21T00:16:45.000+09:00   \n",
       "4  224374   이브 플레어 블라우스  794045     True  2014-01-21T00:16:45.000+09:00   \n",
       "\n",
       "                      updated_at        shop_builder_created_at  \\\n",
       "0  2020-12-07T18:29:42.000+09:00  2013-12-04T14:40:20.000+09:00   \n",
       "1  2020-12-07T18:29:42.000+09:00  2013-12-04T14:40:20.000+09:00   \n",
       "2  2020-12-07T18:29:42.000+09:00  2013-11-26T16:44:02.000+09:00   \n",
       "3  2020-12-07T18:29:42.000+09:00  2013-11-01T17:12:51.000+09:00   \n",
       "4  2020-12-07T18:29:42.000+09:00  2013-11-04T17:16:40.000+09:00   \n",
       "\n",
       "         shop_builder_updated_at  reviews_count  org_price  final_price  \\\n",
       "0  2019-06-03T20:49:00.000+09:00              3      89700        89700   \n",
       "1  2019-06-12T14:25:00.000+09:00              1      51300        36000   \n",
       "2  2019-06-12T14:50:00.000+09:00              2      34600        17300   \n",
       "3  2019-06-03T20:57:00.000+09:00              2      78600        78600   \n",
       "4  2019-06-12T14:24:00.000+09:00              3      34800        34800   \n",
       "\n",
       "  product_status                                              image  \\\n",
       "0        selling  {'middle_url': 'https://assets1.cre.ma/p/ode-c...   \n",
       "1        selling  {'middle_url': 'https://assets1.cre.ma/p/ode-c...   \n",
       "2        selling  {'middle_url': 'https://assets1.cre.ma/p/ode-c...   \n",
       "3        selling  {'middle_url': 'https://assets1.cre.ma/p/ode-c...   \n",
       "4        selling  {'middle_url': 'https://assets1.cre.ma/p/ode-c...   \n",
       "\n",
       "  product_code_x message(positive) product_code_y message(negative)  \n",
       "0            NaN               NaN            NaN               NaN  \n",
       "1            NaN               NaN            NaN               NaN  \n",
       "2            NaN               NaN            NaN               NaN  \n",
       "3            NaN               NaN            NaN               NaN  \n",
       "4            NaN               NaN            NaN               NaN  "
      ]
     },
     "execution_count": 165,
     "metadata": {},
     "output_type": "execute_result"
    }
   ],
   "source": [
    "reviews['message(for_groupby)'] = reviews['message(cleaned)'] + \"\\n\"\n",
    "\n",
    "positive_reviews_per_product = reviews[reviews['sentiment'] == 'Positive']\\\n",
    "                                        .groupby(\"product_code\")['message(for_groupby)'].sum().reset_index()\\\n",
    "                                        .rename(columns={'message(for_groupby)' : \"message(positive)\"})\n",
    "negative_reviews_per_product = reviews[reviews['sentiment'] == 'Negative']\\\n",
    "                                        .groupby(\"product_code\")['message(for_groupby)'].sum().reset_index()\\\n",
    "                                        .rename(columns={'message(for_groupby)' : \"message(negative)\"})\n",
    "\n",
    "products = products.merge(positive_reviews_per_product, left_on='code', right_on='product_code', how='left')\\\n",
    "                    .merge(negative_reviews_per_product, left_on='code', right_on='product_code', how='left')\\\n",
    "\n",
    "print(products.shape)\n",
    "products.head()"
   ]
  },
  {
   "cell_type": "markdown",
   "metadata": {},
   "source": [
    "### 스코어링 근거(키워드 or 키센텐스) 뽑기\n",
    "\n",
    "현재는 키워드 결과가 좋지 않아 키센텐스를 뽑는 것으로 진행. 사실 키센텐스는 키워드를 기준으로 뽑히는거라...보완해야한다."
   ]
  },
  {
   "cell_type": "markdown",
   "metadata": {},
   "source": [
    "#### 근거 후보\n",
    "\n",
    "    1. 키워드\n",
    "        - 핵심이 되는 단어뽑기\n",
    "        - 클릭하면 키워드가 포함된 리뷰를 보여주기\n",
    "\n",
    "    2. 키센텐스\n",
    "        - 핵심이 되는 문장뽑기\n",
    "        - 클릭하면 키센텐스와 유사도가 높은 문장을 보여주기\n",
    "            \n",
    "####  공통 문제점\n",
    "\n",
    "- 맞춤법 결과 이상, 문장 분리 문제, min_count 지정, 불용어 직접 지정\n",
    "    - 글자수가 너무 길면 제대로 처리가 안된다. 현재는 글자수가 길어 문제가 발생하는 메세지들은 맞춤법 처리를 진행하지 않았다.\n",
    "- 키센텐스/키워드가 안뽑히는 케이스\n",
    "    - 대표할만한 문장이 없으면?            \n",
    "            \n",
    "#### 보완책\n",
    "\n",
    "    1. 정제 빡세게 하고(기본형 만들기까지. 큰 -> 크다). 토큰화까지 진행\n",
    "    2. 키워드를 직접 지정하여 카운트하기. 예시) 튿다, 뜯다, 크다, 작다, 좋다. \n",
    "    3. 키센텐스의 경우 마지막 결과를 뽀로로 한 번 더 요약하여 글자수 줄이기.(의미없는 단어 줄이기)"
   ]
  },
  {
   "cell_type": "code",
   "execution_count": 4,
   "metadata": {},
   "outputs": [],
   "source": [
    "from krwordrank.sentence import summarize_with_sentences\n",
    "from hanspell import spell_checker\n",
    "from kss import split_sentences\n",
    "\n",
    "\n",
    "stopwords = {'.', \"은\", '는', '이', '를', '을', '가', '다', '죠', '이다', '에', '에서', '진짜', '너무', '많이','ㅎㅎ', 'ㅋㅋ', 'ㅎ', 'ㅋ',\n",
    "            '제가', '거', '수', '것', '하다'}\n",
    "\n",
    "i = 1\n",
    "\n",
    "# 대표할만한 문장이 없으면? 아무 문장 또는 가장 길이가 긴 리뷰...?\n",
    "\n",
    "# 몇 가지 패러매터를 추가할 수 있습니다. \n",
    "# 길이가 지나치게 길거나 짧은 문장을 제거하기 위해 penalty 함수를 정의합니다. \n",
    "# 아래는 길이가 25 글자부터 80 글자인 문장을 선호한다는 의미입니다. \n",
    "# stopwords 는 키워드에서 제거합니다. 이들은 키워드벡터를 만들 때에도 이용되지 않습니다. \n",
    "# 또한 키워드 벡터와 유사한 문장을 우선적으로 선택하다보면 이전에 선택된 문장과 중복되는 문장들이 선택되기도 합니다.\n",
    "# 이는 diversity 를 이용하여 조절할 수 있습니다. diversity 는 코싸인 유사도 기준 핵심문장 간의 최소 거리 입니다. 이 값이 클수록 다양한 문장이 선택됩니다.\n",
    "# 만약 마지막이라는 단어가 포함된 문장도 핵심 문장에서 제거하고 싶다면 아래처럼 penalty 함수를 변경할 수 있습니다.\n",
    "# penalty=lambda x:0 if (25 <= len(x) <= 80 and not '마지막' in x) else 1,\n",
    "def get_top5_sentences(message, penalty=None, stopwords=None,\n",
    "                     min_count=2, diversity=0.3,\n",
    "                     num_keywords=100, num_keysents=5, **kwargs):\n",
    "    \n",
    "    global i\n",
    "    print(i)\n",
    "    i += 1\n",
    "    \n",
    "    if message is np.nan:\n",
    "        return message\n",
    "    \n",
    "    try:\n",
    "        checked_message = spell_checker.check(message).as_dict()['checked']\n",
    "        \n",
    "        if checked_message == '':\n",
    "            checked_message = message\n",
    "        sentences = split_sentences(checked_message)\n",
    "\n",
    "#         print(checked_message)\n",
    "\n",
    "        keywords, sents = summarize_with_sentences(\n",
    "            sentences,\n",
    "            penalty=None,\n",
    "            min_count=min_count,\n",
    "            stopwords = stopwords,\n",
    "            diversity=diversity,\n",
    "            num_keywords=num_keywords,\n",
    "            num_keysents=num_keysents ,\n",
    "        )    \n",
    "\n",
    "        return list(set(sents))\n",
    "\n",
    "    except:\n",
    "        return np.nan"
   ]
  },
  {
   "cell_type": "code",
   "execution_count": 210,
   "metadata": {},
   "outputs": [],
   "source": [
    "sentence_similarity = Pororo(task=\"similarity\", lang=\"ko\")\n",
    "\n",
    "def get_similar_reviews(row, reviews):\n",
    "    new_negative_cols = [f\"top{i}_sentence_of_negative_reviews\" for i in range(1, num_keysents + 1)]\n",
    "    new_positive_cols = [f\"top{i}_sentence_of_positive_reviews\" for i in range(1, num_keysents + 1)]\n",
    "    \n",
    "    result = {}\n",
    "    print(row['id'])\n",
    "    \n",
    "    # 연산량 때문에 지금은 컬럼 한개만...\n",
    "    for col in (new_positive_cols+ new_negative_cols)[:1]:\n",
    "        message = row[col]\n",
    "        new_col = \"10_reviews_related_with_\" + col\n",
    "        \n",
    "        if pd.isnull(message):\n",
    "#             values = message\n",
    "            continue\n",
    "\n",
    "        else:\n",
    "            try:\n",
    "                product_id = row['id']\n",
    "                related_reviews_index = reviews.loc[reviews['product_id'] == product_id, 'message(cleaned)']\\\n",
    "                                                .apply(sentence_similarity, args=(message, ))\\\n",
    "                                                .sort_values(ascending=False)\\\n",
    "                                                .head(10).index\n",
    "                \n",
    "                values = reviews.loc[related_reviews_index, 'id'].to_list()\n",
    "            except:\n",
    "                values = np.nan\n",
    "                pass\n",
    "        \n",
    "        result[new_col] = values\n",
    "        \n",
    "    return result"
   ]
  },
  {
   "cell_type": "code",
   "execution_count": null,
   "metadata": {},
   "outputs": [],
   "source": [
    "# 결과 이상한 것들 확인\n",
    "c1 = products['message(negative)'].notnull()\n",
    "c2 = tmp.isnull()\n",
    "\n",
    "products.loc[c1&c2, 'message(negative)']"
   ]
  },
  {
   "cell_type": "markdown",
   "metadata": {},
   "source": [
    "여기서부터는 디비를 위해서!"
   ]
  },
  {
   "cell_type": "code",
   "execution_count": 31,
   "metadata": {},
   "outputs": [
    {
     "name": "stdout",
     "output_type": "stream",
     "text": [
      "(107961, 23) (37112, 48)\n"
     ]
    }
   ],
   "source": [
    "reviews = pd.read_csv(\"data/final/reviews.csv\", low_memory=False)\n",
    "products = pd.read_csv(\"data/final/products_final.csv\", low_memory=False)\n",
    "\n",
    "print(reviews.shape, products.shape)"
   ]
  },
  {
   "cell_type": "code",
   "execution_count": null,
   "metadata": {},
   "outputs": [],
   "source": [
    "products.columns"
   ]
  },
  {
   "cell_type": "markdown",
   "metadata": {},
   "source": [
    "### 컬럼명 처리, 사용할 컬럼 뽑기\n",
    "\n",
    "1. 특수기호는 _ 로\n",
    "2. 숫자시작하는 것은 없애기\n",
    "3. 순서지정"
   ]
  },
  {
   "cell_type": "code",
   "execution_count": null,
   "metadata": {},
   "outputs": [],
   "source": [
    "cols_mapper = {\n",
    "    'message(negative)' : 'message_negative',\n",
    "    'message(positive)' : \"message_positive\",\n",
    "    'score(final)' : \"representive_score\",\n",
    "}\n",
    "\n",
    "products_final = products.rename(columns=cols_mapper).copy()\n",
    "\n",
    "products_final.columns = products_final.columns.str.replace(\"10_reviews_related\", \"related_10_reviews\")\n",
    "\n",
    "use_cols = ['id', 'name', 'code', 'representive_score', 'representive_review_id', 'display', 'created_at', 'updated_at',\n",
    "       'shop_builder_created_at', 'shop_builder_updated_at', 'reviews_count',\n",
    "       'org_price', 'final_price', 'product_status', 'image',\n",
    "                   'message_positive',\n",
    "       'top1_sentence_of_positive_reviews',\n",
    "       'top2_sentence_of_positive_reviews',\n",
    "       'top3_sentence_of_positive_reviews',\n",
    "       'top4_sentence_of_positive_reviews',\n",
    "       'top5_sentence_of_positive_reviews',\n",
    "       'related_10_reviews_with_top1_sentence_of_positive_reviews',\n",
    "       'related_10_reviews_with_top2_sentence_of_positive_reviews',\n",
    "       'related_10_reviews_with_top3_sentence_of_positive_reviews',\n",
    "       'related_10_reviews_with_top4_sentence_of_positive_reviews',\n",
    "       'related_10_reviews_with_top5_sentence_of_positive_reviews',\n",
    "        'message_negative',\n",
    "       'top1_sentence_of_negative_reviews',\n",
    "       'top2_sentence_of_negative_reviews',\n",
    "       'top3_sentence_of_negative_reviews',\n",
    "       'top4_sentence_of_negative_reviews',\n",
    "       'top5_sentence_of_negative_reviews',\n",
    "       'related_10_reviews_with_top1_sentence_of_negative_reviews',\n",
    "       'related_10_reviews_with_top2_sentence_of_negative_reviews',\n",
    "       'related_10_reviews_with_top3_sentence_of_negative_reviews',\n",
    "       'related_10_reviews_with_top4_sentence_of_negative_reviews',\n",
    "       'related_10_reviews_with_top5_sentence_of_negative_reviews',]\n",
    "\n",
    "products_final = products_final[use_cols].copy()\n",
    "\n",
    "print(products_final.shape)\n",
    "products_final.head()"
   ]
  },
  {
   "cell_type": "code",
   "execution_count": 136,
   "metadata": {},
   "outputs": [
    {
     "name": "stdout",
     "output_type": "stream",
     "text": [
      "(107961, 23)\n"
     ]
    },
    {
     "data": {
      "text/html": [
       "<div>\n",
       "<style scoped>\n",
       "    .dataframe tbody tr th:only-of-type {\n",
       "        vertical-align: middle;\n",
       "    }\n",
       "\n",
       "    .dataframe tbody tr th {\n",
       "        vertical-align: top;\n",
       "    }\n",
       "\n",
       "    .dataframe thead th {\n",
       "        text-align: right;\n",
       "    }\n",
       "</style>\n",
       "<table border=\"1\" class=\"dataframe\">\n",
       "  <thead>\n",
       "    <tr style=\"text-align: right;\">\n",
       "      <th></th>\n",
       "      <th>id</th>\n",
       "      <th>code</th>\n",
       "      <th>user_id</th>\n",
       "      <th>user_code</th>\n",
       "      <th>user_name</th>\n",
       "      <th>message</th>\n",
       "      <th>message_cleaned</th>\n",
       "      <th>score</th>\n",
       "      <th>score_predicted</th>\n",
       "      <th>score_final</th>\n",
       "      <th>sentiment</th>\n",
       "      <th>created_at</th>\n",
       "      <th>updated_at</th>\n",
       "      <th>product_id</th>\n",
       "      <th>product_code</th>\n",
       "      <th>images_count</th>\n",
       "      <th>images</th>\n",
       "      <th>likes_count</th>\n",
       "      <th>plus_likes_count</th>\n",
       "      <th>comments_count</th>\n",
       "      <th>source</th>\n",
       "      <th>options</th>\n",
       "      <th>product_options</th>\n",
       "    </tr>\n",
       "  </thead>\n",
       "  <tbody>\n",
       "    <tr>\n",
       "      <th>0</th>\n",
       "      <td>4592565</td>\n",
       "      <td>NaN</td>\n",
       "      <td>5562367</td>\n",
       "      <td>jmi703jmi</td>\n",
       "      <td>장명일</td>\n",
       "      <td>\\n댓글이좋아서 구매했는데\\n세탁후 통도많이넓어지고\\n색상도 희끗해지고\\n별로맘에안...</td>\n",
       "      <td>댓글이좋아서 구매했는데 세탁후 통도많이넓어지고 색상도 희끗해지고 별로맘에안들어요...</td>\n",
       "      <td>1</td>\n",
       "      <td>1.89</td>\n",
       "      <td>1.890</td>\n",
       "      <td>Negative</td>\n",
       "      <td>2019-01-01 00:32:52+09:00</td>\n",
       "      <td>2020-10-30 04:24:02+09:00</td>\n",
       "      <td>945527</td>\n",
       "      <td>837698</td>\n",
       "      <td>0</td>\n",
       "      <td>[]</td>\n",
       "      <td>0</td>\n",
       "      <td>0</td>\n",
       "      <td>0</td>\n",
       "      <td>brand_mobile_my_orders</td>\n",
       "      <td>[]</td>\n",
       "      <td>{'색상': '카키', '사이즈': 'L(29~30)'}</td>\n",
       "    </tr>\n",
       "    <tr>\n",
       "      <th>1</th>\n",
       "      <td>4592566</td>\n",
       "      <td>NaN</td>\n",
       "      <td>5559704</td>\n",
       "      <td>nh@bffc0ca8</td>\n",
       "      <td>허성미</td>\n",
       "      <td>고민고민하다 후기 보고 구매했는데 길이도 딱 맞고 핏도 너무 좋네요. 다들 이쁘다고...</td>\n",
       "      <td>고민고민하다 후기 보고 구매했는데 길이도 딱 맞고 핏도 너무 좋네요. 다들 이쁘다고...</td>\n",
       "      <td>5</td>\n",
       "      <td>4.79</td>\n",
       "      <td>4.790</td>\n",
       "      <td>Positive</td>\n",
       "      <td>2019-01-01 03:00:48+09:00</td>\n",
       "      <td>2020-10-15 06:09:01+09:00</td>\n",
       "      <td>952266</td>\n",
       "      <td>874347</td>\n",
       "      <td>0</td>\n",
       "      <td>[]</td>\n",
       "      <td>0</td>\n",
       "      <td>0</td>\n",
       "      <td>0</td>\n",
       "      <td>brand_mobile_popup</td>\n",
       "      <td>[{'id': 771817, 'review_id': 4592566, 'review_...</td>\n",
       "      <td>{'색상': '와인', '사이즈': 'S(25~26)'}</td>\n",
       "    </tr>\n",
       "    <tr>\n",
       "      <th>2</th>\n",
       "      <td>4592567</td>\n",
       "      <td>NaN</td>\n",
       "      <td>5486570</td>\n",
       "      <td>suk1878</td>\n",
       "      <td>최계숙</td>\n",
       "      <td>러블리 리본패턴 배색 플레어 원피스 \\n키158cm인 저한테는 무릎쯤 오고\\n디자인...</td>\n",
       "      <td>러블리 리본패턴 배색 플레어 원피스 키158cm인 저한테는 무릎쯤 오고 디자인도 이...</td>\n",
       "      <td>5</td>\n",
       "      <td>2.71</td>\n",
       "      <td>3.855</td>\n",
       "      <td>Positive</td>\n",
       "      <td>2019-01-01 03:12:03+09:00</td>\n",
       "      <td>2020-11-27 05:16:50+09:00</td>\n",
       "      <td>957076</td>\n",
       "      <td>886773</td>\n",
       "      <td>0</td>\n",
       "      <td>[]</td>\n",
       "      <td>1</td>\n",
       "      <td>1</td>\n",
       "      <td>1</td>\n",
       "      <td>brand_mobile_popup</td>\n",
       "      <td>[{'id': 771822, 'review_id': 4592567, 'review_...</td>\n",
       "      <td>{'색상': '핑크(빠른배송)', '사이즈': 'S(55)'}</td>\n",
       "    </tr>\n",
       "    <tr>\n",
       "      <th>3</th>\n",
       "      <td>4592568</td>\n",
       "      <td>NaN</td>\n",
       "      <td>5323820</td>\n",
       "      <td>mmh030</td>\n",
       "      <td>문명희</td>\n",
       "      <td>그레이 색상 구입했는데\\n너무 이쁘고 편해서 블랙도 구매했어요</td>\n",
       "      <td>그레이 색상 구입했는데 너무 이쁘고 편해서 블랙도 구매했어요</td>\n",
       "      <td>5</td>\n",
       "      <td>4.68</td>\n",
       "      <td>4.680</td>\n",
       "      <td>Positive</td>\n",
       "      <td>2019-01-01 06:38:42+09:00</td>\n",
       "      <td>2020-11-10 21:04:09+09:00</td>\n",
       "      <td>957032</td>\n",
       "      <td>886662</td>\n",
       "      <td>0</td>\n",
       "      <td>[]</td>\n",
       "      <td>0</td>\n",
       "      <td>0</td>\n",
       "      <td>0</td>\n",
       "      <td>brand_mobile_popup</td>\n",
       "      <td>[{'id': 771825, 'review_id': 4592568, 'review_...</td>\n",
       "      <td>{'색상': '블랙', '사이즈': 'Free(55~66)'}</td>\n",
       "    </tr>\n",
       "    <tr>\n",
       "      <th>4</th>\n",
       "      <td>4592569</td>\n",
       "      <td>NaN</td>\n",
       "      <td>5377569</td>\n",
       "      <td>0624shee</td>\n",
       "      <td>박성희</td>\n",
       "      <td>스커트가 톡톡해서 한겨울 입기도좋고 예쁩니다. 색상도 화면과 같구요 한겨울 잘입을수...</td>\n",
       "      <td>스커트가 톡톡해서 한겨울 입기도좋고 예쁩니다. 색상도 화면과 같구요 한겨울 잘입을수...</td>\n",
       "      <td>5</td>\n",
       "      <td>4.67</td>\n",
       "      <td>4.670</td>\n",
       "      <td>Positive</td>\n",
       "      <td>2019-01-01 08:49:14+09:00</td>\n",
       "      <td>2019-02-17 18:13:52+09:00</td>\n",
       "      <td>957261</td>\n",
       "      <td>887248</td>\n",
       "      <td>0</td>\n",
       "      <td>[]</td>\n",
       "      <td>0</td>\n",
       "      <td>0</td>\n",
       "      <td>1</td>\n",
       "      <td>brand_mobile_my_orders</td>\n",
       "      <td>[{'id': 771828, 'review_id': 4592569, 'review_...</td>\n",
       "      <td>{'색상': '딥그린', '사이즈': 'M(27~28)'}</td>\n",
       "    </tr>\n",
       "  </tbody>\n",
       "</table>\n",
       "</div>"
      ],
      "text/plain": [
       "        id code  user_id    user_code user_name  \\\n",
       "0  4592565  NaN  5562367    jmi703jmi       장명일   \n",
       "1  4592566  NaN  5559704  nh@bffc0ca8       허성미   \n",
       "2  4592567  NaN  5486570      suk1878       최계숙   \n",
       "3  4592568  NaN  5323820       mmh030       문명희   \n",
       "4  4592569  NaN  5377569     0624shee       박성희   \n",
       "\n",
       "                                             message  \\\n",
       "0  \\n댓글이좋아서 구매했는데\\n세탁후 통도많이넓어지고\\n색상도 희끗해지고\\n별로맘에안...   \n",
       "1  고민고민하다 후기 보고 구매했는데 길이도 딱 맞고 핏도 너무 좋네요. 다들 이쁘다고...   \n",
       "2  러블리 리본패턴 배색 플레어 원피스 \\n키158cm인 저한테는 무릎쯤 오고\\n디자인...   \n",
       "3                 그레이 색상 구입했는데\\n너무 이쁘고 편해서 블랙도 구매했어요   \n",
       "4  스커트가 톡톡해서 한겨울 입기도좋고 예쁩니다. 색상도 화면과 같구요 한겨울 잘입을수...   \n",
       "\n",
       "                                     message_cleaned  score  score_predicted  \\\n",
       "0    댓글이좋아서 구매했는데 세탁후 통도많이넓어지고 색상도 희끗해지고 별로맘에안들어요...      1             1.89   \n",
       "1  고민고민하다 후기 보고 구매했는데 길이도 딱 맞고 핏도 너무 좋네요. 다들 이쁘다고...      5             4.79   \n",
       "2  러블리 리본패턴 배색 플레어 원피스 키158cm인 저한테는 무릎쯤 오고 디자인도 이...      5             2.71   \n",
       "3                  그레이 색상 구입했는데 너무 이쁘고 편해서 블랙도 구매했어요      5             4.68   \n",
       "4  스커트가 톡톡해서 한겨울 입기도좋고 예쁩니다. 색상도 화면과 같구요 한겨울 잘입을수...      5             4.67   \n",
       "\n",
       "   score_final sentiment                 created_at  \\\n",
       "0        1.890  Negative  2019-01-01 00:32:52+09:00   \n",
       "1        4.790  Positive  2019-01-01 03:00:48+09:00   \n",
       "2        3.855  Positive  2019-01-01 03:12:03+09:00   \n",
       "3        4.680  Positive  2019-01-01 06:38:42+09:00   \n",
       "4        4.670  Positive  2019-01-01 08:49:14+09:00   \n",
       "\n",
       "                  updated_at  product_id product_code  images_count images  \\\n",
       "0  2020-10-30 04:24:02+09:00      945527       837698             0     []   \n",
       "1  2020-10-15 06:09:01+09:00      952266       874347             0     []   \n",
       "2  2020-11-27 05:16:50+09:00      957076       886773             0     []   \n",
       "3  2020-11-10 21:04:09+09:00      957032       886662             0     []   \n",
       "4  2019-02-17 18:13:52+09:00      957261       887248             0     []   \n",
       "\n",
       "   likes_count  plus_likes_count  comments_count                  source  \\\n",
       "0            0                 0               0  brand_mobile_my_orders   \n",
       "1            0                 0               0      brand_mobile_popup   \n",
       "2            1                 1               1      brand_mobile_popup   \n",
       "3            0                 0               0      brand_mobile_popup   \n",
       "4            0                 0               1  brand_mobile_my_orders   \n",
       "\n",
       "                                             options  \\\n",
       "0                                                 []   \n",
       "1  [{'id': 771817, 'review_id': 4592566, 'review_...   \n",
       "2  [{'id': 771822, 'review_id': 4592567, 'review_...   \n",
       "3  [{'id': 771825, 'review_id': 4592568, 'review_...   \n",
       "4  [{'id': 771828, 'review_id': 4592569, 'review_...   \n",
       "\n",
       "                      product_options  \n",
       "0     {'색상': '카키', '사이즈': 'L(29~30)'}  \n",
       "1     {'색상': '와인', '사이즈': 'S(25~26)'}  \n",
       "2  {'색상': '핑크(빠른배송)', '사이즈': 'S(55)'}  \n",
       "3  {'색상': '블랙', '사이즈': 'Free(55~66)'}  \n",
       "4    {'색상': '딥그린', '사이즈': 'M(27~28)'}  "
      ]
     },
     "execution_count": 136,
     "metadata": {},
     "output_type": "execute_result"
    }
   ],
   "source": [
    "use_cols = ['id', 'code', 'user_id', 'user_code', 'user_name', 'message', 'message(cleaned)',\n",
    "            'score', 'score(predicted)', 'score(final)', 'sentiment',\n",
    "       'created_at', 'updated_at', 'product_id', 'product_code',\n",
    "       'images_count', 'images', 'likes_count', 'plus_likes_count',\n",
    "       'comments_count', 'source', 'options', 'product_options', ]\n",
    "\n",
    "cols_mapper = {\n",
    "    'message(cleaned)' : 'message_cleaned',\n",
    "    'score(predicted)' : \"score_predicted\",\n",
    "    'score(final)' : \"score_final\",    \n",
    "}\n",
    "\n",
    "reviews_final = reviews[use_cols].rename(columns=cols_mapper).copy()\n",
    "\n",
    "print(reviews_final.shape)\n",
    "reviews_final.head()"
   ]
  },
  {
   "cell_type": "markdown",
   "metadata": {},
   "source": [
    "### JSON 변환"
   ]
  },
  {
   "cell_type": "markdown",
   "metadata": {},
   "source": [
    "#### products"
   ]
  },
  {
   "cell_type": "markdown",
   "metadata": {},
   "source": [
    "먼저 데이터 타입 확인"
   ]
  },
  {
   "cell_type": "code",
   "execution_count": 44,
   "metadata": {
    "scrolled": true
   },
   "outputs": [
    {
     "data": {
      "text/plain": [
       "\"{'middle_url': 'https://assets1.cre.ma/p/ode-co-kr/products/00/00/22/43/70/image/middle_47651f7741032bfd.jpg', 'middle_width': 512, 'middle_height': 512}\""
      ]
     },
     "execution_count": 44,
     "metadata": {},
     "output_type": "execute_result"
    }
   ],
   "source": [
    "products_final['image'].iloc[0]"
   ]
  },
  {
   "cell_type": "code",
   "execution_count": 45,
   "metadata": {},
   "outputs": [
    {
     "data": {
      "text/plain": [
       "Index(['id', 'name', 'code', 'representive_score', 'display', 'created_at',\n",
       "       'updated_at', 'shop_builder_created_at', 'shop_builder_updated_at',\n",
       "       'reviews_count', 'org_price', 'final_price', 'product_status', 'image',\n",
       "       'message_positive', 'top1_sentence_of_positive_reviews',\n",
       "       'top2_sentence_of_positive_reviews',\n",
       "       'top3_sentence_of_positive_reviews',\n",
       "       'top4_sentence_of_positive_reviews',\n",
       "       'top5_sentence_of_positive_reviews',\n",
       "       'related_10_reviews_with_top1_sentence_of_positive_reviews',\n",
       "       'related_10_reviews_with_top2_sentence_of_positive_reviews',\n",
       "       'related_10_reviews_with_top3_sentence_of_positive_reviews',\n",
       "       'related_10_reviews_with_top4_sentence_of_positive_reviews',\n",
       "       'related_10_reviews_with_top5_sentence_of_positive_reviews',\n",
       "       'message_negative', 'top1_sentence_of_negative_reviews',\n",
       "       'top2_sentence_of_negative_reviews',\n",
       "       'top3_sentence_of_negative_reviews',\n",
       "       'top4_sentence_of_negative_reviews',\n",
       "       'top5_sentence_of_negative_reviews',\n",
       "       'related_10_reviews_with_top1_sentence_of_negative_reviews',\n",
       "       'related_10_reviews_with_top2_sentence_of_negative_reviews',\n",
       "       'related_10_reviews_with_top3_sentence_of_negative_reviews',\n",
       "       'related_10_reviews_with_top4_sentence_of_negative_reviews',\n",
       "       'related_10_reviews_with_top5_sentence_of_negative_reviews'],\n",
       "      dtype='object')"
      ]
     },
     "execution_count": 45,
     "metadata": {},
     "output_type": "execute_result"
    }
   ],
   "source": [
    "products_final.columns"
   ]
  },
  {
   "cell_type": "code",
   "execution_count": null,
   "metadata": {},
   "outputs": [],
   "source": [
    "products_final.loc[products_final['related_10_reviews_with_top1_sentence_of_negative_reviews'].notnull(), 'related_10_reviews_with_top1_sentence_of_negative_reviews'].iloc[0]"
   ]
  },
  {
   "cell_type": "markdown",
   "metadata": {},
   "source": [
    "- related_10_reviews_with_negative : 이미 작은 따옴표로 잘 감싸져 있다. 오케이! 그대로 두면 된다!\n",
    "- image : 큰 따옴표로 감싸져 있다. 작은 따옴표와 큰 따옴표의 위치를 바꾸자."
   ]
  },
  {
   "cell_type": "code",
   "execution_count": null,
   "metadata": {},
   "outputs": [],
   "source": [
    "# json 타입 변환\n",
    "# 원래는 nan 확인해주는게 맞다..!\n",
    "products_final.loc[products_final['image'].notnull(), 'image'] = \\\n",
    "                        products_final.loc[products_final['image'].notnull(), 'image'].str.replace(\"\\'\", '\\\"')\n",
    "\n",
    "\n",
    "products_final.loc[products_final['image'].notnull(), 'image'].iloc[0]"
   ]
  },
  {
   "cell_type": "code",
   "execution_count": null,
   "metadata": {},
   "outputs": [],
   "source": [
    "products_final.head()"
   ]
  },
  {
   "cell_type": "markdown",
   "metadata": {},
   "source": [
    "#### reviews"
   ]
  },
  {
   "cell_type": "code",
   "execution_count": null,
   "metadata": {
    "scrolled": false
   },
   "outputs": [],
   "source": [
    "reviews_final.loc[reviews_final['images'] != '[]', 'images'].iloc[0]"
   ]
  },
  {
   "cell_type": "code",
   "execution_count": null,
   "metadata": {},
   "outputs": [],
   "source": [
    "reviews_final.loc[reviews_final['options'] != '[]', 'options'].iloc[0]"
   ]
  },
  {
   "cell_type": "code",
   "execution_count": null,
   "metadata": {},
   "outputs": [],
   "source": [
    "reviews_final.loc[reviews_final['images'] != '[]', 'images'].iloc[0]"
   ]
  },
  {
   "cell_type": "code",
   "execution_count": null,
   "metadata": {},
   "outputs": [],
   "source": [
    "# json.dumps(\"한글\", ensure_ascii=False)"
   ]
  },
  {
   "cell_type": "code",
   "execution_count": null,
   "metadata": {},
   "outputs": [],
   "source": [
    "def to_json(data):\n",
    "    if pd.isnull(data):\n",
    "        return data\n",
    "    else:\n",
    "        return data.replace(\"\\'\", '\\\"')"
   ]
  },
  {
   "cell_type": "code",
   "execution_count": null,
   "metadata": {},
   "outputs": [],
   "source": [
    "to_json_cols = ['images', 'options', 'product_options']\n",
    "# new_json_cols = [col + \"_json\" for col in to_json_cols]\n",
    "\n",
    "\n",
    "# for col, new_col in zip(to_json_cols, new_json_cols):\n",
    "#     reviews_final[new_col] = reviews_final[col].apply(to_json)\n",
    "\n",
    "for col in to_json_cols:\n",
    "    reviews_final[col] = reviews_final[col].apply(to_json)\n",
    "    \n",
    "print(reviews_final.dtypes)\n",
    "reviews_final.head(1)"
   ]
  },
  {
   "cell_type": "code",
   "execution_count": 158,
   "metadata": {},
   "outputs": [
    {
     "data": {
      "text/html": [
       "<div>\n",
       "<style scoped>\n",
       "    .dataframe tbody tr th:only-of-type {\n",
       "        vertical-align: middle;\n",
       "    }\n",
       "\n",
       "    .dataframe tbody tr th {\n",
       "        vertical-align: top;\n",
       "    }\n",
       "\n",
       "    .dataframe thead th {\n",
       "        text-align: right;\n",
       "    }\n",
       "</style>\n",
       "<table border=\"1\" class=\"dataframe\">\n",
       "  <thead>\n",
       "    <tr style=\"text-align: right;\">\n",
       "      <th></th>\n",
       "      <th>id</th>\n",
       "      <th>name</th>\n",
       "      <th>code</th>\n",
       "      <th>representive_score</th>\n",
       "      <th>display</th>\n",
       "      <th>created_at</th>\n",
       "      <th>updated_at</th>\n",
       "      <th>shop_builder_created_at</th>\n",
       "      <th>shop_builder_updated_at</th>\n",
       "      <th>reviews_count</th>\n",
       "      <th>org_price</th>\n",
       "      <th>final_price</th>\n",
       "      <th>product_status</th>\n",
       "      <th>image</th>\n",
       "      <th>message_positive</th>\n",
       "      <th>top1_sentence_of_positive_reviews</th>\n",
       "      <th>top2_sentence_of_positive_reviews</th>\n",
       "      <th>top3_sentence_of_positive_reviews</th>\n",
       "      <th>top4_sentence_of_positive_reviews</th>\n",
       "      <th>top5_sentence_of_positive_reviews</th>\n",
       "      <th>related_10_reviews_with_positive</th>\n",
       "      <th>message_negative</th>\n",
       "      <th>top1_sentence_of_negative_reviews</th>\n",
       "      <th>top2_sentence_of_negative_reviews</th>\n",
       "      <th>top3_sentence_of_negative_reviews</th>\n",
       "      <th>top4_sentence_of_negative_reviews</th>\n",
       "      <th>top5_sentence_of_negative_reviews</th>\n",
       "      <th>related_10_reviews_with_negative</th>\n",
       "    </tr>\n",
       "  </thead>\n",
       "  <tbody>\n",
       "    <tr>\n",
       "      <th>0</th>\n",
       "      <td>224370</td>\n",
       "      <td>와이드 퍼 무스탕</td>\n",
       "      <td>796006</td>\n",
       "      <td>NaN</td>\n",
       "      <td>True</td>\n",
       "      <td>2014-01-21T00:16:42.000+09:00</td>\n",
       "      <td>2020-12-07T18:29:42.000+09:00</td>\n",
       "      <td>2013-12-04T14:40:20.000+09:00</td>\n",
       "      <td>2019-06-03T20:49:00.000+09:00</td>\n",
       "      <td>3</td>\n",
       "      <td>89700</td>\n",
       "      <td>89700</td>\n",
       "      <td>selling</td>\n",
       "      <td>{\"middle_url\": \"https://assets1.cre.ma/p/ode-c...</td>\n",
       "      <td>NaN</td>\n",
       "      <td>NaN</td>\n",
       "      <td>NaN</td>\n",
       "      <td>NaN</td>\n",
       "      <td>NaN</td>\n",
       "      <td>NaN</td>\n",
       "      <td>NaN</td>\n",
       "      <td>NaN</td>\n",
       "      <td>NaN</td>\n",
       "      <td>NaN</td>\n",
       "      <td>NaN</td>\n",
       "      <td>NaN</td>\n",
       "      <td>NaN</td>\n",
       "      <td>NaN</td>\n",
       "    </tr>\n",
       "    <tr>\n",
       "      <th>1</th>\n",
       "      <td>224371</td>\n",
       "      <td>잔꽃 코듀로이 블라우스</td>\n",
       "      <td>796004</td>\n",
       "      <td>NaN</td>\n",
       "      <td>True</td>\n",
       "      <td>2014-01-21T00:16:43.000+09:00</td>\n",
       "      <td>2020-12-07T18:29:42.000+09:00</td>\n",
       "      <td>2013-12-04T14:40:20.000+09:00</td>\n",
       "      <td>2019-06-12T14:25:00.000+09:00</td>\n",
       "      <td>1</td>\n",
       "      <td>51300</td>\n",
       "      <td>36000</td>\n",
       "      <td>selling</td>\n",
       "      <td>{\"middle_url\": \"https://assets1.cre.ma/p/ode-c...</td>\n",
       "      <td>NaN</td>\n",
       "      <td>NaN</td>\n",
       "      <td>NaN</td>\n",
       "      <td>NaN</td>\n",
       "      <td>NaN</td>\n",
       "      <td>NaN</td>\n",
       "      <td>NaN</td>\n",
       "      <td>NaN</td>\n",
       "      <td>NaN</td>\n",
       "      <td>NaN</td>\n",
       "      <td>NaN</td>\n",
       "      <td>NaN</td>\n",
       "      <td>NaN</td>\n",
       "      <td>NaN</td>\n",
       "    </tr>\n",
       "    <tr>\n",
       "      <th>2</th>\n",
       "      <td>224372</td>\n",
       "      <td>레디아 체크 스커트</td>\n",
       "      <td>795594</td>\n",
       "      <td>NaN</td>\n",
       "      <td>True</td>\n",
       "      <td>2014-01-21T00:16:43.000+09:00</td>\n",
       "      <td>2020-12-07T18:29:42.000+09:00</td>\n",
       "      <td>2013-11-26T16:44:02.000+09:00</td>\n",
       "      <td>2019-06-12T14:50:00.000+09:00</td>\n",
       "      <td>2</td>\n",
       "      <td>34600</td>\n",
       "      <td>17300</td>\n",
       "      <td>selling</td>\n",
       "      <td>{\"middle_url\": \"https://assets1.cre.ma/p/ode-c...</td>\n",
       "      <td>NaN</td>\n",
       "      <td>NaN</td>\n",
       "      <td>NaN</td>\n",
       "      <td>NaN</td>\n",
       "      <td>NaN</td>\n",
       "      <td>NaN</td>\n",
       "      <td>NaN</td>\n",
       "      <td>NaN</td>\n",
       "      <td>NaN</td>\n",
       "      <td>NaN</td>\n",
       "      <td>NaN</td>\n",
       "      <td>NaN</td>\n",
       "      <td>NaN</td>\n",
       "      <td>NaN</td>\n",
       "    </tr>\n",
       "    <tr>\n",
       "      <th>3</th>\n",
       "      <td>224373</td>\n",
       "      <td>샤론 스트링 조끼</td>\n",
       "      <td>793896</td>\n",
       "      <td>NaN</td>\n",
       "      <td>True</td>\n",
       "      <td>2014-01-21T00:16:45.000+09:00</td>\n",
       "      <td>2020-12-07T18:29:42.000+09:00</td>\n",
       "      <td>2013-11-01T17:12:51.000+09:00</td>\n",
       "      <td>2019-06-03T20:57:00.000+09:00</td>\n",
       "      <td>2</td>\n",
       "      <td>78600</td>\n",
       "      <td>78600</td>\n",
       "      <td>selling</td>\n",
       "      <td>{\"middle_url\": \"https://assets1.cre.ma/p/ode-c...</td>\n",
       "      <td>NaN</td>\n",
       "      <td>NaN</td>\n",
       "      <td>NaN</td>\n",
       "      <td>NaN</td>\n",
       "      <td>NaN</td>\n",
       "      <td>NaN</td>\n",
       "      <td>NaN</td>\n",
       "      <td>NaN</td>\n",
       "      <td>NaN</td>\n",
       "      <td>NaN</td>\n",
       "      <td>NaN</td>\n",
       "      <td>NaN</td>\n",
       "      <td>NaN</td>\n",
       "      <td>NaN</td>\n",
       "    </tr>\n",
       "    <tr>\n",
       "      <th>4</th>\n",
       "      <td>224374</td>\n",
       "      <td>이브 플레어 블라우스</td>\n",
       "      <td>794045</td>\n",
       "      <td>NaN</td>\n",
       "      <td>True</td>\n",
       "      <td>2014-01-21T00:16:45.000+09:00</td>\n",
       "      <td>2020-12-07T18:29:42.000+09:00</td>\n",
       "      <td>2013-11-04T17:16:40.000+09:00</td>\n",
       "      <td>2019-06-12T14:24:00.000+09:00</td>\n",
       "      <td>3</td>\n",
       "      <td>34800</td>\n",
       "      <td>34800</td>\n",
       "      <td>selling</td>\n",
       "      <td>{\"middle_url\": \"https://assets1.cre.ma/p/ode-c...</td>\n",
       "      <td>NaN</td>\n",
       "      <td>NaN</td>\n",
       "      <td>NaN</td>\n",
       "      <td>NaN</td>\n",
       "      <td>NaN</td>\n",
       "      <td>NaN</td>\n",
       "      <td>NaN</td>\n",
       "      <td>NaN</td>\n",
       "      <td>NaN</td>\n",
       "      <td>NaN</td>\n",
       "      <td>NaN</td>\n",
       "      <td>NaN</td>\n",
       "      <td>NaN</td>\n",
       "      <td>NaN</td>\n",
       "    </tr>\n",
       "  </tbody>\n",
       "</table>\n",
       "</div>"
      ],
      "text/plain": [
       "       id          name    code  representive_score  display  \\\n",
       "0  224370     와이드 퍼 무스탕  796006                 NaN     True   \n",
       "1  224371  잔꽃 코듀로이 블라우스  796004                 NaN     True   \n",
       "2  224372    레디아 체크 스커트  795594                 NaN     True   \n",
       "3  224373     샤론 스트링 조끼  793896                 NaN     True   \n",
       "4  224374   이브 플레어 블라우스  794045                 NaN     True   \n",
       "\n",
       "                      created_at                     updated_at  \\\n",
       "0  2014-01-21T00:16:42.000+09:00  2020-12-07T18:29:42.000+09:00   \n",
       "1  2014-01-21T00:16:43.000+09:00  2020-12-07T18:29:42.000+09:00   \n",
       "2  2014-01-21T00:16:43.000+09:00  2020-12-07T18:29:42.000+09:00   \n",
       "3  2014-01-21T00:16:45.000+09:00  2020-12-07T18:29:42.000+09:00   \n",
       "4  2014-01-21T00:16:45.000+09:00  2020-12-07T18:29:42.000+09:00   \n",
       "\n",
       "         shop_builder_created_at        shop_builder_updated_at  \\\n",
       "0  2013-12-04T14:40:20.000+09:00  2019-06-03T20:49:00.000+09:00   \n",
       "1  2013-12-04T14:40:20.000+09:00  2019-06-12T14:25:00.000+09:00   \n",
       "2  2013-11-26T16:44:02.000+09:00  2019-06-12T14:50:00.000+09:00   \n",
       "3  2013-11-01T17:12:51.000+09:00  2019-06-03T20:57:00.000+09:00   \n",
       "4  2013-11-04T17:16:40.000+09:00  2019-06-12T14:24:00.000+09:00   \n",
       "\n",
       "   reviews_count  org_price  final_price product_status  \\\n",
       "0              3      89700        89700        selling   \n",
       "1              1      51300        36000        selling   \n",
       "2              2      34600        17300        selling   \n",
       "3              2      78600        78600        selling   \n",
       "4              3      34800        34800        selling   \n",
       "\n",
       "                                               image message_positive  \\\n",
       "0  {\"middle_url\": \"https://assets1.cre.ma/p/ode-c...              NaN   \n",
       "1  {\"middle_url\": \"https://assets1.cre.ma/p/ode-c...              NaN   \n",
       "2  {\"middle_url\": \"https://assets1.cre.ma/p/ode-c...              NaN   \n",
       "3  {\"middle_url\": \"https://assets1.cre.ma/p/ode-c...              NaN   \n",
       "4  {\"middle_url\": \"https://assets1.cre.ma/p/ode-c...              NaN   \n",
       "\n",
       "  top1_sentence_of_positive_reviews top2_sentence_of_positive_reviews  \\\n",
       "0                               NaN                               NaN   \n",
       "1                               NaN                               NaN   \n",
       "2                               NaN                               NaN   \n",
       "3                               NaN                               NaN   \n",
       "4                               NaN                               NaN   \n",
       "\n",
       "  top3_sentence_of_positive_reviews top4_sentence_of_positive_reviews  \\\n",
       "0                               NaN                               NaN   \n",
       "1                               NaN                               NaN   \n",
       "2                               NaN                               NaN   \n",
       "3                               NaN                               NaN   \n",
       "4                               NaN                               NaN   \n",
       "\n",
       "  top5_sentence_of_positive_reviews related_10_reviews_with_positive  \\\n",
       "0                               NaN                              NaN   \n",
       "1                               NaN                              NaN   \n",
       "2                               NaN                              NaN   \n",
       "3                               NaN                              NaN   \n",
       "4                               NaN                              NaN   \n",
       "\n",
       "  message_negative top1_sentence_of_negative_reviews  \\\n",
       "0              NaN                               NaN   \n",
       "1              NaN                               NaN   \n",
       "2              NaN                               NaN   \n",
       "3              NaN                               NaN   \n",
       "4              NaN                               NaN   \n",
       "\n",
       "  top2_sentence_of_negative_reviews top3_sentence_of_negative_reviews  \\\n",
       "0                               NaN                               NaN   \n",
       "1                               NaN                               NaN   \n",
       "2                               NaN                               NaN   \n",
       "3                               NaN                               NaN   \n",
       "4                               NaN                               NaN   \n",
       "\n",
       "  top4_sentence_of_negative_reviews top5_sentence_of_negative_reviews  \\\n",
       "0                               NaN                               NaN   \n",
       "1                               NaN                               NaN   \n",
       "2                               NaN                               NaN   \n",
       "3                               NaN                               NaN   \n",
       "4                               NaN                               NaN   \n",
       "\n",
       "  related_10_reviews_with_negative  \n",
       "0                              NaN  \n",
       "1                              NaN  \n",
       "2                              NaN  \n",
       "3                              NaN  \n",
       "4                              NaN  "
      ]
     },
     "execution_count": 158,
     "metadata": {},
     "output_type": "execute_result"
    }
   ],
   "source": [
    "products_final.head()"
   ]
  },
  {
   "cell_type": "code",
   "execution_count": 50,
   "metadata": {},
   "outputs": [],
   "source": [
    "# reviews_final.to_csv(\"data/final/reviews.csv\", index=False)\n",
    "products_final.to_csv(\"data/final/products.csv\", index=False)"
   ]
  },
  {
   "cell_type": "markdown",
   "metadata": {},
   "source": [
    "----"
   ]
  },
  {
   "cell_type": "markdown",
   "metadata": {},
   "source": [
    "## Edit Data Format"
   ]
  },
  {
   "cell_type": "code",
   "execution_count": 245,
   "metadata": {},
   "outputs": [],
   "source": [
    "reviews['message'].head().to_csv(\"sample_file.txt\", index=False, header=None, sep='\\n')"
   ]
  },
  {
   "cell_type": "markdown",
   "metadata": {},
   "source": [
    "#### ordinal, datetime, etc\n",
    "\n",
    "- datetime\n",
    "- nan"
   ]
  },
  {
   "cell_type": "code",
   "execution_count": 6,
   "metadata": {},
   "outputs": [
    {
     "data": {
      "text/html": [
       "<div>\n",
       "<style scoped>\n",
       "    .dataframe tbody tr th:only-of-type {\n",
       "        vertical-align: middle;\n",
       "    }\n",
       "\n",
       "    .dataframe tbody tr th {\n",
       "        vertical-align: top;\n",
       "    }\n",
       "\n",
       "    .dataframe thead th {\n",
       "        text-align: right;\n",
       "    }\n",
       "</style>\n",
       "<table border=\"1\" class=\"dataframe\">\n",
       "  <thead>\n",
       "    <tr style=\"text-align: right;\">\n",
       "      <th></th>\n",
       "      <th>created_at</th>\n",
       "      <th>updated_at</th>\n",
       "    </tr>\n",
       "  </thead>\n",
       "  <tbody>\n",
       "    <tr>\n",
       "      <th>0</th>\n",
       "      <td>2019-01-01 00:32:52+09:00</td>\n",
       "      <td>2020-10-30 04:24:02+09:00</td>\n",
       "    </tr>\n",
       "    <tr>\n",
       "      <th>1</th>\n",
       "      <td>2019-01-01 03:00:48+09:00</td>\n",
       "      <td>2020-10-15 06:09:01+09:00</td>\n",
       "    </tr>\n",
       "    <tr>\n",
       "      <th>2</th>\n",
       "      <td>2019-01-01 03:12:03+09:00</td>\n",
       "      <td>2020-11-27 05:16:50+09:00</td>\n",
       "    </tr>\n",
       "    <tr>\n",
       "      <th>3</th>\n",
       "      <td>2019-01-01 06:38:42+09:00</td>\n",
       "      <td>2020-11-10 21:04:09+09:00</td>\n",
       "    </tr>\n",
       "    <tr>\n",
       "      <th>4</th>\n",
       "      <td>2019-01-01 08:49:14+09:00</td>\n",
       "      <td>2019-02-17 18:13:52+09:00</td>\n",
       "    </tr>\n",
       "  </tbody>\n",
       "</table>\n",
       "</div>"
      ],
      "text/plain": [
       "                 created_at                updated_at\n",
       "0 2019-01-01 00:32:52+09:00 2020-10-30 04:24:02+09:00\n",
       "1 2019-01-01 03:00:48+09:00 2020-10-15 06:09:01+09:00\n",
       "2 2019-01-01 03:12:03+09:00 2020-11-27 05:16:50+09:00\n",
       "3 2019-01-01 06:38:42+09:00 2020-11-10 21:04:09+09:00\n",
       "4 2019-01-01 08:49:14+09:00 2019-02-17 18:13:52+09:00"
      ]
     },
     "execution_count": 6,
     "metadata": {},
     "output_type": "execute_result"
    }
   ],
   "source": [
    "reviews['created_at'] = pd.to_datetime(reviews['created_at'])\n",
    "reviews['updated_at'] = pd.to_datetime(reviews['updated_at'])\n",
    "\n",
    "cols = ['created_at', 'updated_at']\n",
    "reviews[cols].head()"
   ]
  },
  {
   "cell_type": "code",
   "execution_count": null,
   "metadata": {},
   "outputs": [],
   "source": [
    "reviews['created_at(year)'] = reviews['created_at'].dt.year\n",
    "reviews['created_at(month)'] = reviews['created_at'].dt.month\n",
    "reviews['created_at(day)'] = reviews['created_at'].dt.day\n",
    "reviews['created_at(hour)'] = reviews['created_at'].dt.hour\n",
    "\n",
    "reviews['created_at(year-month)'] = reviews['created_at'].dt.strftime(\"%Y-%m\")\n",
    "reviews['created_at(date)'] = reviews['created_at'].dt.date\n",
    "\n",
    "reviews['created_at(dayofweek)'] = reviews['created_at'].dt.dayofweek\n",
    "\n",
    "cols = ['created_at(year-month)', 'created_at(year)', 'created_at(month)', 'created_at(day)', 'created_at(hour)',\n",
    "       'created_at(dayofweek)']\n",
    "reviews[cols].head()"
   ]
  },
  {
   "cell_type": "markdown",
   "metadata": {},
   "source": [
    "## SQLite DB 만들기"
   ]
  },
  {
   "cell_type": "code",
   "execution_count": null,
   "metadata": {},
   "outputs": [],
   "source": [
    "# alter 불가능\n",
    "# pk 만들기가 힘들다. json도 지원하지 않는다.\n",
    "connection = sqlite3.connect(\"data/final/crema.db\")\n",
    "products_final.to_sql(\"products\", connection, if_exists='replace')"
   ]
  },
  {
   "cell_type": "code",
   "execution_count": null,
   "metadata": {},
   "outputs": [],
   "source": []
  },
  {
   "cell_type": "code",
   "execution_count": null,
   "metadata": {},
   "outputs": [],
   "source": []
  },
  {
   "cell_type": "code",
   "execution_count": null,
   "metadata": {},
   "outputs": [],
   "source": []
  },
  {
   "cell_type": "code",
   "execution_count": null,
   "metadata": {},
   "outputs": [],
   "source": []
  },
  {
   "cell_type": "code",
   "execution_count": null,
   "metadata": {},
   "outputs": [],
   "source": []
  }
 ],
 "metadata": {
  "kernelspec": {
   "display_name": "Python 3",
   "language": "python",
   "name": "python3"
  },
  "language_info": {
   "codemirror_mode": {
    "name": "ipython",
    "version": 3
   },
   "file_extension": ".py",
   "mimetype": "text/x-python",
   "name": "python",
   "nbconvert_exporter": "python",
   "pygments_lexer": "ipython3",
   "version": "3.7.6"
  }
 },
 "nbformat": 4,
 "nbformat_minor": 4
}
